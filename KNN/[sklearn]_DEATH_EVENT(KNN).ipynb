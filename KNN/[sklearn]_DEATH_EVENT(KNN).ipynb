{
  "nbformat": 4,
  "nbformat_minor": 0,
  "metadata": {
    "colab": {
      "name": "[sklearn] DEATH_EVENT(KNN).ipynb",
      "provenance": []
    },
    "kernelspec": {
      "name": "python3",
      "display_name": "Python 3"
    },
    "language_info": {
      "name": "python"
    }
  },
  "cells": [
    {
      "cell_type": "markdown",
      "metadata": {
        "id": "GYe74eD-DcwK"
      },
      "source": [
        "# 문제 정의\n",
        "\n",
        "제공 받은 Dataset은 age, anaemia, high blood pressure, diabetes 등의 병원데이터라고 추측되는 데이터이고 DEATH_EVENT는 해당 환자의 사후관리 기간 중 사망한 경우를 나타냅니다."
      ]
    },
    {
      "cell_type": "markdown",
      "metadata": {
        "id": "H_36Tn6aDxh1"
      },
      "source": [
        "라이브러리 임포트"
      ]
    },
    {
      "cell_type": "code",
      "metadata": {
        "id": "bqt3IQ5nDQ35"
      },
      "source": [
        "# Libraies for reading and handling the data\n",
        "import numpy as np\n",
        "import pandas as pd\n",
        "import re\n",
        "\n",
        "# Libraries for data visualization\n",
        "import matplotlib.pyplot as plt\n",
        "import seaborn as sns\n",
        "\n",
        "# Libraries for data preprocessing\n",
        "from sklearn.model_selection import train_test_split\n",
        "from sklearn.preprocessing import StandardScaler, OrdinalEncoder, OneHotEncoder\n",
        "from sklearn.compose import ColumnTransformer\n",
        "from sklearn.base import BaseEstimator, TransformerMixin\n",
        "\n",
        "# Libraries for creating ML model\n",
        "from sklearn.linear_model import LogisticRegression\n",
        "from sklearn.tree import DecisionTreeClassifier\n",
        "from sklearn.ensemble import RandomForestClassifier\n",
        "from sklearn.ensemble import GradientBoostingClassifier\n",
        "\n",
        "# Library for Analysing the ML model\n",
        "from sklearn import metrics"
      ],
      "execution_count": 1,
      "outputs": []
    },
    {
      "cell_type": "code",
      "metadata": {
        "colab": {
          "base_uri": "https://localhost:8080/"
        },
        "id": "7m671N9oSXHK",
        "outputId": "c8eb50dd-2826-4078-d1b5-f989586b9caf"
      },
      "source": [
        "import matplotlib as mpl\n",
        "import matplotlib.pyplot as plt\n",
        " \n",
        "%config InlineBackend.figure_format = 'retina'\n",
        " \n",
        "!apt -qq -y install fonts-nanum\n",
        " \n",
        "import matplotlib.font_manager as fm\n",
        "\n",
        "fontpath = '/usr/share/fonts/truetype/nanum/NanumBarunGothic.ttf'\n",
        "font = fm.FontProperties(fname=fontpath, size=9)\n",
        "plt.rc('font', family='NanumBarunGothic') \n",
        "mpl.font_manager._rebuild()"
      ],
      "execution_count": 3,
      "outputs": [
        {
          "output_type": "stream",
          "text": [
            "fonts-nanum is already the newest version (20170925-1).\n",
            "0 upgraded, 0 newly installed, 0 to remove and 89 not upgraded.\n"
          ],
          "name": "stdout"
        }
      ]
    },
    {
      "cell_type": "markdown",
      "metadata": {
        "id": "NOhb_8PeD1To"
      },
      "source": [
        "데이터 준비하기"
      ]
    },
    {
      "cell_type": "code",
      "metadata": {
        "id": "OUMXYE0hD0m8"
      },
      "source": [
        "# csv 파일을 데이터프레임으로 변환\n",
        "df = pd.read_csv('data.csv', header=None)"
      ],
      "execution_count": 4,
      "outputs": []
    },
    {
      "cell_type": "code",
      "metadata": {
        "id": "lJac_c6XD5Rv"
      },
      "source": [
        "# 열 이름 지정\n",
        "df.columns = ['age','anamia','creatinine_phosphokinase','diabetes','ejection_fraction',\n",
        "              'high_blood_pressure','platelets','serum_creatinine','serum_sodium',\n",
        "              'sex','smoking','time','DEATH_EVENT']"
      ],
      "execution_count": 5,
      "outputs": []
    },
    {
      "cell_type": "markdown",
      "metadata": {
        "id": "VRvSrqrfEKB9"
      },
      "source": [
        "데이터 탐색 및 데이터 전처리"
      ]
    },
    {
      "cell_type": "code",
      "metadata": {
        "colab": {
          "base_uri": "https://localhost:8080/",
          "height": 215
        },
        "id": "1K6CgNRsD-H0",
        "outputId": "625c52d5-a08a-4186-c6cf-2f92e5d6e8c7"
      },
      "source": [
        "# column 추가로 중복된 첫 번째행 삭제\n",
        "df= df.drop(0,0)\n",
        "df.head()"
      ],
      "execution_count": 6,
      "outputs": [
        {
          "output_type": "execute_result",
          "data": {
            "text/html": [
              "<div>\n",
              "<style scoped>\n",
              "    .dataframe tbody tr th:only-of-type {\n",
              "        vertical-align: middle;\n",
              "    }\n",
              "\n",
              "    .dataframe tbody tr th {\n",
              "        vertical-align: top;\n",
              "    }\n",
              "\n",
              "    .dataframe thead th {\n",
              "        text-align: right;\n",
              "    }\n",
              "</style>\n",
              "<table border=\"1\" class=\"dataframe\">\n",
              "  <thead>\n",
              "    <tr style=\"text-align: right;\">\n",
              "      <th></th>\n",
              "      <th>age</th>\n",
              "      <th>anamia</th>\n",
              "      <th>creatinine_phosphokinase</th>\n",
              "      <th>diabetes</th>\n",
              "      <th>ejection_fraction</th>\n",
              "      <th>high_blood_pressure</th>\n",
              "      <th>platelets</th>\n",
              "      <th>serum_creatinine</th>\n",
              "      <th>serum_sodium</th>\n",
              "      <th>sex</th>\n",
              "      <th>smoking</th>\n",
              "      <th>time</th>\n",
              "      <th>DEATH_EVENT</th>\n",
              "    </tr>\n",
              "  </thead>\n",
              "  <tbody>\n",
              "    <tr>\n",
              "      <th>1</th>\n",
              "      <td>75</td>\n",
              "      <td>0</td>\n",
              "      <td>582</td>\n",
              "      <td>0</td>\n",
              "      <td>20</td>\n",
              "      <td>1</td>\n",
              "      <td>265000</td>\n",
              "      <td>1.9</td>\n",
              "      <td>130</td>\n",
              "      <td>1</td>\n",
              "      <td>0</td>\n",
              "      <td>4</td>\n",
              "      <td>1</td>\n",
              "    </tr>\n",
              "    <tr>\n",
              "      <th>2</th>\n",
              "      <td>55</td>\n",
              "      <td>0</td>\n",
              "      <td>7861</td>\n",
              "      <td>0</td>\n",
              "      <td>38</td>\n",
              "      <td>0</td>\n",
              "      <td>263358.03</td>\n",
              "      <td>1.1</td>\n",
              "      <td>136</td>\n",
              "      <td>1</td>\n",
              "      <td>0</td>\n",
              "      <td>6</td>\n",
              "      <td>1</td>\n",
              "    </tr>\n",
              "    <tr>\n",
              "      <th>3</th>\n",
              "      <td>65</td>\n",
              "      <td>0</td>\n",
              "      <td>146</td>\n",
              "      <td>0</td>\n",
              "      <td>20</td>\n",
              "      <td>0</td>\n",
              "      <td>162000</td>\n",
              "      <td>1.3</td>\n",
              "      <td>129</td>\n",
              "      <td>1</td>\n",
              "      <td>1</td>\n",
              "      <td>7</td>\n",
              "      <td>1</td>\n",
              "    </tr>\n",
              "    <tr>\n",
              "      <th>4</th>\n",
              "      <td>50</td>\n",
              "      <td>1</td>\n",
              "      <td>111</td>\n",
              "      <td>0</td>\n",
              "      <td>20</td>\n",
              "      <td>0</td>\n",
              "      <td>210000</td>\n",
              "      <td>1.9</td>\n",
              "      <td>137</td>\n",
              "      <td>1</td>\n",
              "      <td>0</td>\n",
              "      <td>7</td>\n",
              "      <td>1</td>\n",
              "    </tr>\n",
              "    <tr>\n",
              "      <th>5</th>\n",
              "      <td>65</td>\n",
              "      <td>1</td>\n",
              "      <td>160</td>\n",
              "      <td>1</td>\n",
              "      <td>20</td>\n",
              "      <td>0</td>\n",
              "      <td>327000</td>\n",
              "      <td>2.7</td>\n",
              "      <td>116</td>\n",
              "      <td>0</td>\n",
              "      <td>0</td>\n",
              "      <td>8</td>\n",
              "      <td>1</td>\n",
              "    </tr>\n",
              "  </tbody>\n",
              "</table>\n",
              "</div>"
            ],
            "text/plain": [
              "  age anamia creatinine_phosphokinase diabetes  ... sex smoking time DEATH_EVENT\n",
              "1  75      0                      582        0  ...   1       0    4           1\n",
              "2  55      0                     7861        0  ...   1       0    6           1\n",
              "3  65      0                      146        0  ...   1       1    7           1\n",
              "4  50      1                      111        0  ...   1       0    7           1\n",
              "5  65      1                      160        1  ...   0       0    8           1\n",
              "\n",
              "[5 rows x 13 columns]"
            ]
          },
          "metadata": {
            "tags": []
          },
          "execution_count": 6
        }
      ]
    },
    {
      "cell_type": "code",
      "metadata": {
        "colab": {
          "base_uri": "https://localhost:8080/"
        },
        "id": "dpR6yzOEEOIP",
        "outputId": "d6e0a78d-a9e0-4895-fae2-ce098792b704"
      },
      "source": [
        "# age 열의 자료형 변경 (문자열 -> 숫자)\n",
        "df['age'].unique()"
      ],
      "execution_count": 7,
      "outputs": [
        {
          "output_type": "execute_result",
          "data": {
            "text/plain": [
              "array(['75', '55', '65', '50', '90', '60', '80', '62', '45', '49', '82',\n",
              "       '87', '70', '48', '68', '53', '95', '58', '94', '85', '69', '72',\n",
              "       '51', '57', '42', '41', '67', '79', '59', '44', '63', '86', '66',\n",
              "       '43', '46', '61', '81', '52', '64', '40', '60.667', '73', '77',\n",
              "       '78', '54', '47', '56'], dtype=object)"
            ]
          },
          "metadata": {
            "tags": []
          },
          "execution_count": 7
        }
      ]
    },
    {
      "cell_type": "code",
      "metadata": {
        "colab": {
          "base_uri": "https://localhost:8080/"
        },
        "id": "oduwnQwqEPsS",
        "outputId": "e0c61bb7-3c73-4b16-afef-2649e49725fa"
      },
      "source": [
        "# 60.667를 np.nan으로 변경\n",
        "df['age'].replace('60.667',np.nan,inplace=True)\n",
        "df.info"
      ],
      "execution_count": 8,
      "outputs": [
        {
          "output_type": "execute_result",
          "data": {
            "text/plain": [
              "<bound method DataFrame.info of     age anamia creatinine_phosphokinase diabetes  ... sex smoking time DEATH_EVENT\n",
              "1    75      0                      582        0  ...   1       0    4           1\n",
              "2    55      0                     7861        0  ...   1       0    6           1\n",
              "3    65      0                      146        0  ...   1       1    7           1\n",
              "4    50      1                      111        0  ...   1       0    7           1\n",
              "5    65      1                      160        1  ...   0       0    8           1\n",
              "..   ..    ...                      ...      ...  ...  ..     ...  ...         ...\n",
              "295  62      0                       61        1  ...   1       1  270           0\n",
              "296  55      0                     1820        0  ...   0       0  271           0\n",
              "297  45      0                     2060        1  ...   0       0  278           0\n",
              "298  45      0                     2413        0  ...   1       1  280           0\n",
              "299  50      0                      196        0  ...   1       1  285           0\n",
              "\n",
              "[299 rows x 13 columns]>"
            ]
          },
          "metadata": {
            "tags": []
          },
          "execution_count": 8
        }
      ]
    },
    {
      "cell_type": "code",
      "metadata": {
        "colab": {
          "base_uri": "https://localhost:8080/"
        },
        "id": "172vRNyDEQ2m",
        "outputId": "a74caee9-f532-4036-f048-4703f804c65c"
      },
      "source": [
        "# nan 확인\n",
        "df['age'].unique()"
      ],
      "execution_count": 9,
      "outputs": [
        {
          "output_type": "execute_result",
          "data": {
            "text/plain": [
              "array(['75', '55', '65', '50', '90', '60', '80', '62', '45', '49', '82',\n",
              "       '87', '70', '48', '68', '53', '95', '58', '94', '85', '69', '72',\n",
              "       '51', '57', '42', '41', '67', '79', '59', '44', '63', '86', '66',\n",
              "       '43', '46', '61', '81', '52', '64', '40', nan, '73', '77', '78',\n",
              "       '54', '47', '56'], dtype=object)"
            ]
          },
          "metadata": {
            "tags": []
          },
          "execution_count": 9
        }
      ]
    },
    {
      "cell_type": "code",
      "metadata": {
        "id": "HfyF7QmjEUGX"
      },
      "source": [
        "# 데이터안 nan값 60으로 변경\n",
        "df=df.fillna(60)"
      ],
      "execution_count": 10,
      "outputs": []
    },
    {
      "cell_type": "code",
      "metadata": {
        "colab": {
          "base_uri": "https://localhost:8080/"
        },
        "id": "2X8Y_8l7EVsZ",
        "outputId": "c9e2531b-1af6-4035-ae9b-677de41f41c6"
      },
      "source": [
        "# 변경 사항 확인\n",
        "df['age'].unique()"
      ],
      "execution_count": 11,
      "outputs": [
        {
          "output_type": "execute_result",
          "data": {
            "text/plain": [
              "array(['75', '55', '65', '50', '90', '60', '80', '62', '45', '49', '82',\n",
              "       '87', '70', '48', '68', '53', '95', '58', '94', '85', '69', '72',\n",
              "       '51', '57', '42', '41', '67', '79', '59', '44', '63', '86', '66',\n",
              "       '43', '46', '61', '81', '52', '64', '40', 60, '73', '77', '78',\n",
              "       '54', '47', '56'], dtype=object)"
            ]
          },
          "metadata": {
            "tags": []
          },
          "execution_count": 11
        }
      ]
    },
    {
      "cell_type": "code",
      "metadata": {
        "id": "sF0my_4HEXe2"
      },
      "source": [
        "# 열들의 자료형 변경 (문자열 -> 숫자)\n",
        "df['age']=df['age'].astype('int')\n",
        "\n",
        "df['creatinine_phosphokinase']=df['creatinine_phosphokinase'].astype('int')\n",
        "\n",
        "df['ejection_fraction']=df['ejection_fraction'].astype('int')\n",
        "\n",
        "df['platelets']=df['platelets'].astype('float')\n",
        "\n",
        "df['serum_creatinine']=df['serum_creatinine'].astype('float')\n",
        "\n",
        "df['serum_sodium']=df['serum_sodium'].astype('int')\n",
        "\n",
        "df['time']=df['time'].astype('int')\n",
        "\n",
        "df['DEATH_EVENT']=df['DEATH_EVENT'].astype('int')"
      ],
      "execution_count": 12,
      "outputs": []
    },
    {
      "cell_type": "code",
      "metadata": {
        "id": "7d5iM7EzEbr1"
      },
      "source": [
        "# 숫자 형태의 변수 -> 카테고리 형태로 변경\n",
        "categorical_var=['anamia','diabetes','high_blood_pressure','sex','smoking']\n",
        "df[categorical_var] = df[categorical_var].astype('category')"
      ],
      "execution_count": 13,
      "outputs": []
    },
    {
      "cell_type": "markdown",
      "metadata": {
        "id": "aotsL2awEe5A"
      },
      "source": [
        "형변환 완료한 데이터 형식"
      ]
    },
    {
      "cell_type": "code",
      "metadata": {
        "colab": {
          "base_uri": "https://localhost:8080/"
        },
        "id": "aSwdsEn3EdIR",
        "outputId": "c36bddd2-50a2-41ed-877e-2a0e768c5b4d"
      },
      "source": [
        "df.info()"
      ],
      "execution_count": 14,
      "outputs": [
        {
          "output_type": "stream",
          "text": [
            "<class 'pandas.core.frame.DataFrame'>\n",
            "Int64Index: 299 entries, 1 to 299\n",
            "Data columns (total 13 columns):\n",
            " #   Column                    Non-Null Count  Dtype   \n",
            "---  ------                    --------------  -----   \n",
            " 0   age                       299 non-null    int64   \n",
            " 1   anamia                    299 non-null    category\n",
            " 2   creatinine_phosphokinase  299 non-null    int64   \n",
            " 3   diabetes                  299 non-null    category\n",
            " 4   ejection_fraction         299 non-null    int64   \n",
            " 5   high_blood_pressure       299 non-null    category\n",
            " 6   platelets                 299 non-null    float64 \n",
            " 7   serum_creatinine          299 non-null    float64 \n",
            " 8   serum_sodium              299 non-null    int64   \n",
            " 9   sex                       299 non-null    category\n",
            " 10  smoking                   299 non-null    category\n",
            " 11  time                      299 non-null    int64   \n",
            " 12  DEATH_EVENT               299 non-null    int64   \n",
            "dtypes: category(5), float64(2), int64(6)\n",
            "memory usage: 23.0 KB\n"
          ],
          "name": "stdout"
        }
      ]
    },
    {
      "cell_type": "code",
      "metadata": {
        "colab": {
          "base_uri": "https://localhost:8080/",
          "height": 215
        },
        "id": "vwwB9wurEksm",
        "outputId": "93d17087-caca-471f-c012-29880c2bd5b0"
      },
      "source": [
        "df.head()"
      ],
      "execution_count": 15,
      "outputs": [
        {
          "output_type": "execute_result",
          "data": {
            "text/html": [
              "<div>\n",
              "<style scoped>\n",
              "    .dataframe tbody tr th:only-of-type {\n",
              "        vertical-align: middle;\n",
              "    }\n",
              "\n",
              "    .dataframe tbody tr th {\n",
              "        vertical-align: top;\n",
              "    }\n",
              "\n",
              "    .dataframe thead th {\n",
              "        text-align: right;\n",
              "    }\n",
              "</style>\n",
              "<table border=\"1\" class=\"dataframe\">\n",
              "  <thead>\n",
              "    <tr style=\"text-align: right;\">\n",
              "      <th></th>\n",
              "      <th>age</th>\n",
              "      <th>anamia</th>\n",
              "      <th>creatinine_phosphokinase</th>\n",
              "      <th>diabetes</th>\n",
              "      <th>ejection_fraction</th>\n",
              "      <th>high_blood_pressure</th>\n",
              "      <th>platelets</th>\n",
              "      <th>serum_creatinine</th>\n",
              "      <th>serum_sodium</th>\n",
              "      <th>sex</th>\n",
              "      <th>smoking</th>\n",
              "      <th>time</th>\n",
              "      <th>DEATH_EVENT</th>\n",
              "    </tr>\n",
              "  </thead>\n",
              "  <tbody>\n",
              "    <tr>\n",
              "      <th>1</th>\n",
              "      <td>75</td>\n",
              "      <td>0</td>\n",
              "      <td>582</td>\n",
              "      <td>0</td>\n",
              "      <td>20</td>\n",
              "      <td>1</td>\n",
              "      <td>265000.00</td>\n",
              "      <td>1.9</td>\n",
              "      <td>130</td>\n",
              "      <td>1</td>\n",
              "      <td>0</td>\n",
              "      <td>4</td>\n",
              "      <td>1</td>\n",
              "    </tr>\n",
              "    <tr>\n",
              "      <th>2</th>\n",
              "      <td>55</td>\n",
              "      <td>0</td>\n",
              "      <td>7861</td>\n",
              "      <td>0</td>\n",
              "      <td>38</td>\n",
              "      <td>0</td>\n",
              "      <td>263358.03</td>\n",
              "      <td>1.1</td>\n",
              "      <td>136</td>\n",
              "      <td>1</td>\n",
              "      <td>0</td>\n",
              "      <td>6</td>\n",
              "      <td>1</td>\n",
              "    </tr>\n",
              "    <tr>\n",
              "      <th>3</th>\n",
              "      <td>65</td>\n",
              "      <td>0</td>\n",
              "      <td>146</td>\n",
              "      <td>0</td>\n",
              "      <td>20</td>\n",
              "      <td>0</td>\n",
              "      <td>162000.00</td>\n",
              "      <td>1.3</td>\n",
              "      <td>129</td>\n",
              "      <td>1</td>\n",
              "      <td>1</td>\n",
              "      <td>7</td>\n",
              "      <td>1</td>\n",
              "    </tr>\n",
              "    <tr>\n",
              "      <th>4</th>\n",
              "      <td>50</td>\n",
              "      <td>1</td>\n",
              "      <td>111</td>\n",
              "      <td>0</td>\n",
              "      <td>20</td>\n",
              "      <td>0</td>\n",
              "      <td>210000.00</td>\n",
              "      <td>1.9</td>\n",
              "      <td>137</td>\n",
              "      <td>1</td>\n",
              "      <td>0</td>\n",
              "      <td>7</td>\n",
              "      <td>1</td>\n",
              "    </tr>\n",
              "    <tr>\n",
              "      <th>5</th>\n",
              "      <td>65</td>\n",
              "      <td>1</td>\n",
              "      <td>160</td>\n",
              "      <td>1</td>\n",
              "      <td>20</td>\n",
              "      <td>0</td>\n",
              "      <td>327000.00</td>\n",
              "      <td>2.7</td>\n",
              "      <td>116</td>\n",
              "      <td>0</td>\n",
              "      <td>0</td>\n",
              "      <td>8</td>\n",
              "      <td>1</td>\n",
              "    </tr>\n",
              "  </tbody>\n",
              "</table>\n",
              "</div>"
            ],
            "text/plain": [
              "   age anamia  creatinine_phosphokinase diabetes  ...  sex smoking  time  DEATH_EVENT\n",
              "1   75      0                       582        0  ...    1       0     4            1\n",
              "2   55      0                      7861        0  ...    1       0     6            1\n",
              "3   65      0                       146        0  ...    1       1     7            1\n",
              "4   50      1                       111        0  ...    1       0     7            1\n",
              "5   65      1                       160        1  ...    0       0     8            1\n",
              "\n",
              "[5 rows x 13 columns]"
            ]
          },
          "metadata": {
            "tags": []
          },
          "execution_count": 15
        }
      ]
    },
    {
      "cell_type": "markdown",
      "metadata": {
        "id": "8Bhr8_rjGVbO"
      },
      "source": [
        "데이터 분리하기"
      ]
    },
    {
      "cell_type": "code",
      "metadata": {
        "id": "KRJf43NxGXM_"
      },
      "source": [
        "# X(시험지), y(정답지) 분리하기\n",
        "X = df.iloc[:,:-1]\n",
        "y = df['DEATH_EVENT']"
      ],
      "execution_count": 16,
      "outputs": []
    },
    {
      "cell_type": "markdown",
      "metadata": {
        "id": "qal2DLOcEmlz"
      },
      "source": [
        "데이터 시각화"
      ]
    },
    {
      "cell_type": "code",
      "metadata": {
        "id": "N-HRTirBEmBb"
      },
      "source": [
        "# 원-핫 인코딩 처리\n",
        "# 컬럼 -> 원-핫 인코딩 처리\n",
        "temp = pd.get_dummies(X[categorical_var], drop_first=True)"
      ],
      "execution_count": 17,
      "outputs": []
    },
    {
      "cell_type": "code",
      "metadata": {
        "id": "Q0qG5oxCGSeC"
      },
      "source": [
        "# 기존 데이터랑 합치기\n",
        "X_modified = pd.concat([X,temp], axis=1)"
      ],
      "execution_count": 18,
      "outputs": []
    },
    {
      "cell_type": "code",
      "metadata": {
        "id": "MdE8gaBaGact"
      },
      "source": [
        "# 기존 컬럼 삭제\n",
        "X_modified.drop(categorical_var, axis=1, inplace=True)"
      ],
      "execution_count": 19,
      "outputs": []
    },
    {
      "cell_type": "code",
      "metadata": {
        "colab": {
          "base_uri": "https://localhost:8080/",
          "height": 215
        },
        "id": "T-wKcQehGcUx",
        "outputId": "f03f5adf-8849-4af7-e8cc-0cb028453fe6"
      },
      "source": [
        "X_modified.head()"
      ],
      "execution_count": 20,
      "outputs": [
        {
          "output_type": "execute_result",
          "data": {
            "text/html": [
              "<div>\n",
              "<style scoped>\n",
              "    .dataframe tbody tr th:only-of-type {\n",
              "        vertical-align: middle;\n",
              "    }\n",
              "\n",
              "    .dataframe tbody tr th {\n",
              "        vertical-align: top;\n",
              "    }\n",
              "\n",
              "    .dataframe thead th {\n",
              "        text-align: right;\n",
              "    }\n",
              "</style>\n",
              "<table border=\"1\" class=\"dataframe\">\n",
              "  <thead>\n",
              "    <tr style=\"text-align: right;\">\n",
              "      <th></th>\n",
              "      <th>age</th>\n",
              "      <th>creatinine_phosphokinase</th>\n",
              "      <th>ejection_fraction</th>\n",
              "      <th>platelets</th>\n",
              "      <th>serum_creatinine</th>\n",
              "      <th>serum_sodium</th>\n",
              "      <th>time</th>\n",
              "      <th>anamia_1</th>\n",
              "      <th>diabetes_1</th>\n",
              "      <th>high_blood_pressure_1</th>\n",
              "      <th>sex_1</th>\n",
              "      <th>smoking_1</th>\n",
              "    </tr>\n",
              "  </thead>\n",
              "  <tbody>\n",
              "    <tr>\n",
              "      <th>1</th>\n",
              "      <td>75</td>\n",
              "      <td>582</td>\n",
              "      <td>20</td>\n",
              "      <td>265000.00</td>\n",
              "      <td>1.9</td>\n",
              "      <td>130</td>\n",
              "      <td>4</td>\n",
              "      <td>0</td>\n",
              "      <td>0</td>\n",
              "      <td>1</td>\n",
              "      <td>1</td>\n",
              "      <td>0</td>\n",
              "    </tr>\n",
              "    <tr>\n",
              "      <th>2</th>\n",
              "      <td>55</td>\n",
              "      <td>7861</td>\n",
              "      <td>38</td>\n",
              "      <td>263358.03</td>\n",
              "      <td>1.1</td>\n",
              "      <td>136</td>\n",
              "      <td>6</td>\n",
              "      <td>0</td>\n",
              "      <td>0</td>\n",
              "      <td>0</td>\n",
              "      <td>1</td>\n",
              "      <td>0</td>\n",
              "    </tr>\n",
              "    <tr>\n",
              "      <th>3</th>\n",
              "      <td>65</td>\n",
              "      <td>146</td>\n",
              "      <td>20</td>\n",
              "      <td>162000.00</td>\n",
              "      <td>1.3</td>\n",
              "      <td>129</td>\n",
              "      <td>7</td>\n",
              "      <td>0</td>\n",
              "      <td>0</td>\n",
              "      <td>0</td>\n",
              "      <td>1</td>\n",
              "      <td>1</td>\n",
              "    </tr>\n",
              "    <tr>\n",
              "      <th>4</th>\n",
              "      <td>50</td>\n",
              "      <td>111</td>\n",
              "      <td>20</td>\n",
              "      <td>210000.00</td>\n",
              "      <td>1.9</td>\n",
              "      <td>137</td>\n",
              "      <td>7</td>\n",
              "      <td>1</td>\n",
              "      <td>0</td>\n",
              "      <td>0</td>\n",
              "      <td>1</td>\n",
              "      <td>0</td>\n",
              "    </tr>\n",
              "    <tr>\n",
              "      <th>5</th>\n",
              "      <td>65</td>\n",
              "      <td>160</td>\n",
              "      <td>20</td>\n",
              "      <td>327000.00</td>\n",
              "      <td>2.7</td>\n",
              "      <td>116</td>\n",
              "      <td>8</td>\n",
              "      <td>1</td>\n",
              "      <td>1</td>\n",
              "      <td>0</td>\n",
              "      <td>0</td>\n",
              "      <td>0</td>\n",
              "    </tr>\n",
              "  </tbody>\n",
              "</table>\n",
              "</div>"
            ],
            "text/plain": [
              "   age  creatinine_phosphokinase  ...  sex_1  smoking_1\n",
              "1   75                       582  ...      1          0\n",
              "2   55                      7861  ...      1          0\n",
              "3   65                       146  ...      1          1\n",
              "4   50                       111  ...      1          0\n",
              "5   65                       160  ...      0          0\n",
              "\n",
              "[5 rows x 12 columns]"
            ]
          },
          "metadata": {
            "tags": []
          },
          "execution_count": 20
        }
      ]
    },
    {
      "cell_type": "markdown",
      "metadata": {
        "id": "1Knu5AjWGfJo"
      },
      "source": [
        "훈련용, 테스트 데이터 분리하기"
      ]
    },
    {
      "cell_type": "code",
      "metadata": {
        "id": "EMww1AZMGeMp"
      },
      "source": [
        "X_train, X_test, y_train, y_test = train_test_split(X_modified,y,\n",
        "                                                    train_size=0.7, # test_size\n",
        "                                                    random_state=7)"
      ],
      "execution_count": 21,
      "outputs": []
    },
    {
      "cell_type": "markdown",
      "metadata": {
        "id": "NYg8ds2FG0tj"
      },
      "source": [
        "KNN 분류 모형 - sklearn 사용"
      ]
    },
    {
      "cell_type": "code",
      "metadata": {
        "id": "-OF82lXxGo_V"
      },
      "source": [
        "# sklearn 라이브러리에서 KNN 분류 모형 가져오기\n",
        "from sklearn.neighbors import KNeighborsClassifier\n",
        "\n",
        "# 모형 객체 생성 (k=2로 설정)\n",
        "knn = KNeighborsClassifier(n_neighbors=2)"
      ],
      "execution_count": 22,
      "outputs": []
    },
    {
      "cell_type": "code",
      "metadata": {
        "colab": {
          "base_uri": "https://localhost:8080/"
        },
        "id": "QJhuQC5vG2WM",
        "outputId": "461993b2-a06b-4ffc-fbf1-b102e3ecaa0f"
      },
      "source": [
        "# train 데이터를 사용하여 모형 학습\n",
        "knn.fit(X_train, y_train)"
      ],
      "execution_count": 23,
      "outputs": [
        {
          "output_type": "execute_result",
          "data": {
            "text/plain": [
              "KNeighborsClassifier(algorithm='auto', leaf_size=30, metric='minkowski',\n",
              "                     metric_params=None, n_jobs=None, n_neighbors=2, p=2,\n",
              "                     weights='uniform')"
            ]
          },
          "metadata": {
            "tags": []
          },
          "execution_count": 23
        }
      ]
    },
    {
      "cell_type": "code",
      "metadata": {
        "colab": {
          "base_uri": "https://localhost:8080/"
        },
        "id": "adlMzTLYG3hO",
        "outputId": "805677ea-8161-4e68-fcea-59d1c0cabb25"
      },
      "source": [
        "# test 데이터를 가지고 y_hat을 예측 (분류)\n",
        "y_hat = knn.predict(X_test)\n",
        "\n",
        "print(y_hat[0:10])\n",
        "print(y_test.values[0:10])"
      ],
      "execution_count": 24,
      "outputs": [
        {
          "output_type": "stream",
          "text": [
            "[0 0 0 0 0 0 0 0 0 0]\n",
            "[0 0 0 0 0 0 0 0 1 0]\n"
          ],
          "name": "stdout"
        }
      ]
    },
    {
      "cell_type": "markdown",
      "metadata": {
        "id": "Lv6I6eNPG6LF"
      },
      "source": [
        "모델 성능 평가"
      ]
    },
    {
      "cell_type": "code",
      "metadata": {
        "colab": {
          "base_uri": "https://localhost:8080/"
        },
        "id": "qiHGUi5EG5GP",
        "outputId": "de6fddfd-21e9-4557-f4d6-f65cff1612bd"
      },
      "source": [
        "from sklearn import metrics\n",
        "\n",
        "# 모형 성능 평가- 평가지표 계산\n",
        "knn_report = metrics.classification_report(y_test, y_hat)\n",
        "print(\"테스트 평가지표 n_neighbors=2\")\n",
        "print(knn_report)"
      ],
      "execution_count": 25,
      "outputs": [
        {
          "output_type": "stream",
          "text": [
            "테스트 평가지표 n_neighbors=2\n",
            "              precision    recall  f1-score   support\n",
            "\n",
            "           0       0.74      0.98      0.85        65\n",
            "           1       0.75      0.12      0.21        25\n",
            "\n",
            "    accuracy                           0.74        90\n",
            "   macro avg       0.75      0.55      0.53        90\n",
            "weighted avg       0.75      0.74      0.67        90\n",
            "\n"
          ],
          "name": "stdout"
        }
      ]
    },
    {
      "cell_type": "code",
      "metadata": {
        "colab": {
          "base_uri": "https://localhost:8080/"
        },
        "id": "xlbuBfcZG9S6",
        "outputId": "1ab3518f-9391-4eba-fd80-bc4fece5a188"
      },
      "source": [
        "# sklearn 을 이용하면 전부 계산해준다.\n",
        "print('accuracy: ', metrics.accuracy_score(y_test,y_hat))\n",
        "print('precision: ', metrics.precision_score(y_test,y_hat))\n",
        "print('recall: ', metrics.recall_score(y_test,y_hat))\n",
        "print('f1: ', metrics.f1_score(y_test,y_hat))"
      ],
      "execution_count": 26,
      "outputs": [
        {
          "output_type": "stream",
          "text": [
            "accuracy:  0.7444444444444445\n",
            "precision:  0.75\n",
            "recall:  0.12\n",
            "f1:  0.20689655172413793\n"
          ],
          "name": "stdout"
        }
      ]
    },
    {
      "cell_type": "code",
      "metadata": {
        "colab": {
          "base_uri": "https://localhost:8080/",
          "height": 386
        },
        "id": "OEczMLgPHEZ6",
        "outputId": "e6a463b9-275e-4a76-d211-a364fc005285"
      },
      "source": [
        "#이웃의 수에 따른 정확도 저장할 리스트 변수\n",
        "\n",
        "train_accuracy = []\n",
        "test_accuracy = []\n",
        "\n",
        "# 1에서 10까지 n_nerighbors를 적용\n",
        "neighbors_settings = range(1,11)\n",
        "\n",
        "for n_neighbors in neighbors_settings :\n",
        "\n",
        "  # 모델 생성\n",
        "  clf = KNeighborsClassifier(n_neighbors=n_neighbors)\n",
        "  clf.fit(X_train, y_train)\n",
        "\n",
        "  #훈련 세트 정확도 저장\n",
        "  train_accuracy.append(clf.score(X_train, y_train))\n",
        "\n",
        "  #테스트 세트 정확도 저장\n",
        "  test_accuracy.append(clf.score(X_test, y_test))\n",
        "\n",
        "# 훈련 vs 테스트 정확도 시각화\n",
        "plt.figure(dpi = 100)\n",
        "plt.style.use('ggplot')\n",
        "plt.rc('font', family = 'NanumBarunGothic')\n",
        "\n",
        "plt.plot(neighbors_settings,train_accuracy, label='훈련 정확도')\n",
        "plt.plot(neighbors_settings,test_accuracy, label='테스트 정확도')\n",
        "plt.ylabel(\"정확도\")\n",
        "plt.xlabel(\"n_neighbors\")\n",
        "plt.legend()\n",
        "plt.show()"
      ],
      "execution_count": 27,
      "outputs": [
        {
          "output_type": "display_data",
          "data": {
            "image/png": "[encoded data removed]",
            "text/plain": [
              "<Figure size 600x400 with 1 Axes>"
            ]
          },
          "metadata": {
            "tags": [],
            "image/png": {
              "width": 545,
              "height": 369
            },
            "needs_background": "light"
          }
        }
      ]
    }
  ]
}
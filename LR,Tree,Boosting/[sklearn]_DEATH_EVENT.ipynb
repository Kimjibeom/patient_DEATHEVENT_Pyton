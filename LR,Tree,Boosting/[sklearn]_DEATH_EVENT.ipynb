{
  "nbformat": 4,
  "nbformat_minor": 0,
  "metadata": {
    "colab": {
      "name": "[sklearn] DEATH_EVENT.ipynb",
      "provenance": []
    },
    "kernelspec": {
      "name": "python3",
      "display_name": "Python 3"
    },
    "language_info": {
      "name": "python"
    }
  },
  "cells": [
    {
      "cell_type": "markdown",
      "metadata": {
        "id": "bX86m7CN_1Un"
      },
      "source": [
        "# 문제 정의\n",
        "\n",
        "제공 받은 Dataset은 age, anaemia, high blood pressure, diabetes 등의 병원데이터라고 추측되는 데이터이고 DEATH_EVENT는 해당 환자의 사후관리 기간 중 사망한 경우를 나타냅니다."
      ]
    },
    {
      "cell_type": "markdown",
      "metadata": {
        "id": "I7UepO9eAGQs"
      },
      "source": [
        "라이브러리 임포트"
      ]
    },
    {
      "cell_type": "code",
      "metadata": {
        "id": "UGKLuRVT_49H"
      },
      "source": [
        "# Libraies for reading and handling the data\n",
        "import numpy as np\n",
        "import pandas as pd\n",
        "import re\n",
        "\n",
        "# Libraries for data visualization\n",
        "import matplotlib.pyplot as plt\n",
        "import seaborn as sns\n",
        "\n",
        "# Libraries for data preprocessing\n",
        "from sklearn.model_selection import train_test_split\n",
        "from sklearn.preprocessing import StandardScaler, OrdinalEncoder, OneHotEncoder\n",
        "from sklearn.compose import ColumnTransformer\n",
        "from sklearn.base import BaseEstimator, TransformerMixin\n",
        "\n",
        "# Libraries for creating ML model\n",
        "from sklearn.linear_model import LogisticRegression\n",
        "from sklearn.tree import DecisionTreeClassifier\n",
        "from sklearn.ensemble import RandomForestClassifier\n",
        "from sklearn.ensemble import GradientBoostingClassifier\n",
        "\n",
        "# Library for Analysing the ML model\n",
        "from sklearn import metrics"
      ],
      "execution_count": 1,
      "outputs": []
    },
    {
      "cell_type": "markdown",
      "metadata": {
        "id": "srbqbPv4AK0a"
      },
      "source": [
        "데이터 준비하기"
      ]
    },
    {
      "cell_type": "code",
      "metadata": {
        "id": "5xqAlpiZEChf"
      },
      "source": [
        "# csv 파일을 데이터프레임으로 변환\n",
        "df = pd.read_csv('data.csv', header=None)"
      ],
      "execution_count": 2,
      "outputs": []
    },
    {
      "cell_type": "code",
      "metadata": {
        "colab": {
          "base_uri": "https://localhost:8080/"
        },
        "id": "haxsskaGEIgO",
        "outputId": "2a32b36b-2c7b-4e5f-9fd5-27d6423c6f0e"
      },
      "source": [
        "df.info()"
      ],
      "execution_count": 3,
      "outputs": [
        {
          "output_type": "stream",
          "text": [
            "<class 'pandas.core.frame.DataFrame'>\n",
            "RangeIndex: 300 entries, 0 to 299\n",
            "Data columns (total 13 columns):\n",
            " #   Column  Non-Null Count  Dtype \n",
            "---  ------  --------------  ----- \n",
            " 0   0       300 non-null    object\n",
            " 1   1       300 non-null    object\n",
            " 2   2       300 non-null    object\n",
            " 3   3       300 non-null    object\n",
            " 4   4       300 non-null    object\n",
            " 5   5       300 non-null    object\n",
            " 6   6       300 non-null    object\n",
            " 7   7       300 non-null    object\n",
            " 8   8       300 non-null    object\n",
            " 9   9       300 non-null    object\n",
            " 10  10      300 non-null    object\n",
            " 11  11      300 non-null    object\n",
            " 12  12      300 non-null    object\n",
            "dtypes: object(13)\n",
            "memory usage: 30.6+ KB\n"
          ],
          "name": "stdout"
        }
      ]
    },
    {
      "cell_type": "code",
      "metadata": {
        "id": "VT49dqjxApP5"
      },
      "source": [
        "# 열 이름 지정\n",
        "df.columns = ['age','anamia','creatinine_phosphokinase','diabetes','ejection_fraction',\n",
        "              'high_blood_pressure','platelets','serum_creatinine','serum_sodium',\n",
        "              'sex','smoking','time','DEATH_EVENT']"
      ],
      "execution_count": 4,
      "outputs": []
    },
    {
      "cell_type": "code",
      "metadata": {
        "colab": {
          "base_uri": "https://localhost:8080/",
          "height": 215
        },
        "id": "xuul-M85AqzY",
        "outputId": "71c79760-97c8-4664-849d-d83c1409fa21"
      },
      "source": [
        "df.head()"
      ],
      "execution_count": 5,
      "outputs": [
        {
          "output_type": "execute_result",
          "data": {
            "text/html": [
              "<div>\n",
              "<style scoped>\n",
              "    .dataframe tbody tr th:only-of-type {\n",
              "        vertical-align: middle;\n",
              "    }\n",
              "\n",
              "    .dataframe tbody tr th {\n",
              "        vertical-align: top;\n",
              "    }\n",
              "\n",
              "    .dataframe thead th {\n",
              "        text-align: right;\n",
              "    }\n",
              "</style>\n",
              "<table border=\"1\" class=\"dataframe\">\n",
              "  <thead>\n",
              "    <tr style=\"text-align: right;\">\n",
              "      <th></th>\n",
              "      <th>age</th>\n",
              "      <th>anamia</th>\n",
              "      <th>creatinine_phosphokinase</th>\n",
              "      <th>diabetes</th>\n",
              "      <th>ejection_fraction</th>\n",
              "      <th>high_blood_pressure</th>\n",
              "      <th>platelets</th>\n",
              "      <th>serum_creatinine</th>\n",
              "      <th>serum_sodium</th>\n",
              "      <th>sex</th>\n",
              "      <th>smoking</th>\n",
              "      <th>time</th>\n",
              "      <th>DEATH_EVENT</th>\n",
              "    </tr>\n",
              "  </thead>\n",
              "  <tbody>\n",
              "    <tr>\n",
              "      <th>0</th>\n",
              "      <td>age</td>\n",
              "      <td>anaemia</td>\n",
              "      <td>creatinine_phosphokinase</td>\n",
              "      <td>diabetes</td>\n",
              "      <td>ejection_fraction</td>\n",
              "      <td>high_blood_pressure</td>\n",
              "      <td>platelets</td>\n",
              "      <td>serum_creatinine</td>\n",
              "      <td>serum_sodium</td>\n",
              "      <td>sex</td>\n",
              "      <td>smoking</td>\n",
              "      <td>time</td>\n",
              "      <td>DEATH_EVENT</td>\n",
              "    </tr>\n",
              "    <tr>\n",
              "      <th>1</th>\n",
              "      <td>75</td>\n",
              "      <td>0</td>\n",
              "      <td>582</td>\n",
              "      <td>0</td>\n",
              "      <td>20</td>\n",
              "      <td>1</td>\n",
              "      <td>265000</td>\n",
              "      <td>1.9</td>\n",
              "      <td>130</td>\n",
              "      <td>1</td>\n",
              "      <td>0</td>\n",
              "      <td>4</td>\n",
              "      <td>1</td>\n",
              "    </tr>\n",
              "    <tr>\n",
              "      <th>2</th>\n",
              "      <td>55</td>\n",
              "      <td>0</td>\n",
              "      <td>7861</td>\n",
              "      <td>0</td>\n",
              "      <td>38</td>\n",
              "      <td>0</td>\n",
              "      <td>263358.03</td>\n",
              "      <td>1.1</td>\n",
              "      <td>136</td>\n",
              "      <td>1</td>\n",
              "      <td>0</td>\n",
              "      <td>6</td>\n",
              "      <td>1</td>\n",
              "    </tr>\n",
              "    <tr>\n",
              "      <th>3</th>\n",
              "      <td>65</td>\n",
              "      <td>0</td>\n",
              "      <td>146</td>\n",
              "      <td>0</td>\n",
              "      <td>20</td>\n",
              "      <td>0</td>\n",
              "      <td>162000</td>\n",
              "      <td>1.3</td>\n",
              "      <td>129</td>\n",
              "      <td>1</td>\n",
              "      <td>1</td>\n",
              "      <td>7</td>\n",
              "      <td>1</td>\n",
              "    </tr>\n",
              "    <tr>\n",
              "      <th>4</th>\n",
              "      <td>50</td>\n",
              "      <td>1</td>\n",
              "      <td>111</td>\n",
              "      <td>0</td>\n",
              "      <td>20</td>\n",
              "      <td>0</td>\n",
              "      <td>210000</td>\n",
              "      <td>1.9</td>\n",
              "      <td>137</td>\n",
              "      <td>1</td>\n",
              "      <td>0</td>\n",
              "      <td>7</td>\n",
              "      <td>1</td>\n",
              "    </tr>\n",
              "  </tbody>\n",
              "</table>\n",
              "</div>"
            ],
            "text/plain": [
              "   age   anamia  creatinine_phosphokinase  ...  smoking  time  DEATH_EVENT\n",
              "0  age  anaemia  creatinine_phosphokinase  ...  smoking  time  DEATH_EVENT\n",
              "1   75        0                       582  ...        0     4            1\n",
              "2   55        0                      7861  ...        0     6            1\n",
              "3   65        0                       146  ...        1     7            1\n",
              "4   50        1                       111  ...        0     7            1\n",
              "\n",
              "[5 rows x 13 columns]"
            ]
          },
          "metadata": {
            "tags": []
          },
          "execution_count": 5
        }
      ]
    },
    {
      "cell_type": "markdown",
      "metadata": {
        "id": "qNKOYxHNAtC2"
      },
      "source": [
        "데이터 탐색 및 데이터 전처리"
      ]
    },
    {
      "cell_type": "code",
      "metadata": {
        "colab": {
          "base_uri": "https://localhost:8080/"
        },
        "id": "6v3QJudfAtr6",
        "outputId": "e0ba0561-2939-4a17-bb76-515f9520fb59"
      },
      "source": [
        "df.info()"
      ],
      "execution_count": 6,
      "outputs": [
        {
          "output_type": "stream",
          "text": [
            "<class 'pandas.core.frame.DataFrame'>\n",
            "RangeIndex: 300 entries, 0 to 299\n",
            "Data columns (total 13 columns):\n",
            " #   Column                    Non-Null Count  Dtype \n",
            "---  ------                    --------------  ----- \n",
            " 0   age                       300 non-null    object\n",
            " 1   anamia                    300 non-null    object\n",
            " 2   creatinine_phosphokinase  300 non-null    object\n",
            " 3   diabetes                  300 non-null    object\n",
            " 4   ejection_fraction         300 non-null    object\n",
            " 5   high_blood_pressure       300 non-null    object\n",
            " 6   platelets                 300 non-null    object\n",
            " 7   serum_creatinine          300 non-null    object\n",
            " 8   serum_sodium              300 non-null    object\n",
            " 9   sex                       300 non-null    object\n",
            " 10  smoking                   300 non-null    object\n",
            " 11  time                      300 non-null    object\n",
            " 12  DEATH_EVENT               300 non-null    object\n",
            "dtypes: object(13)\n",
            "memory usage: 30.6+ KB\n"
          ],
          "name": "stdout"
        }
      ]
    },
    {
      "cell_type": "code",
      "metadata": {
        "colab": {
          "base_uri": "https://localhost:8080/",
          "height": 215
        },
        "id": "zqiuF0HTAxXe",
        "outputId": "029fc3d7-09bc-46c5-eea4-26591af66a8c"
      },
      "source": [
        "# column 추가로 중복된 첫 번째행 삭제\n",
        "df= df.drop(0,0)\n",
        "df.head()"
      ],
      "execution_count": 7,
      "outputs": [
        {
          "output_type": "execute_result",
          "data": {
            "text/html": [
              "<div>\n",
              "<style scoped>\n",
              "    .dataframe tbody tr th:only-of-type {\n",
              "        vertical-align: middle;\n",
              "    }\n",
              "\n",
              "    .dataframe tbody tr th {\n",
              "        vertical-align: top;\n",
              "    }\n",
              "\n",
              "    .dataframe thead th {\n",
              "        text-align: right;\n",
              "    }\n",
              "</style>\n",
              "<table border=\"1\" class=\"dataframe\">\n",
              "  <thead>\n",
              "    <tr style=\"text-align: right;\">\n",
              "      <th></th>\n",
              "      <th>age</th>\n",
              "      <th>anamia</th>\n",
              "      <th>creatinine_phosphokinase</th>\n",
              "      <th>diabetes</th>\n",
              "      <th>ejection_fraction</th>\n",
              "      <th>high_blood_pressure</th>\n",
              "      <th>platelets</th>\n",
              "      <th>serum_creatinine</th>\n",
              "      <th>serum_sodium</th>\n",
              "      <th>sex</th>\n",
              "      <th>smoking</th>\n",
              "      <th>time</th>\n",
              "      <th>DEATH_EVENT</th>\n",
              "    </tr>\n",
              "  </thead>\n",
              "  <tbody>\n",
              "    <tr>\n",
              "      <th>1</th>\n",
              "      <td>75</td>\n",
              "      <td>0</td>\n",
              "      <td>582</td>\n",
              "      <td>0</td>\n",
              "      <td>20</td>\n",
              "      <td>1</td>\n",
              "      <td>265000</td>\n",
              "      <td>1.9</td>\n",
              "      <td>130</td>\n",
              "      <td>1</td>\n",
              "      <td>0</td>\n",
              "      <td>4</td>\n",
              "      <td>1</td>\n",
              "    </tr>\n",
              "    <tr>\n",
              "      <th>2</th>\n",
              "      <td>55</td>\n",
              "      <td>0</td>\n",
              "      <td>7861</td>\n",
              "      <td>0</td>\n",
              "      <td>38</td>\n",
              "      <td>0</td>\n",
              "      <td>263358.03</td>\n",
              "      <td>1.1</td>\n",
              "      <td>136</td>\n",
              "      <td>1</td>\n",
              "      <td>0</td>\n",
              "      <td>6</td>\n",
              "      <td>1</td>\n",
              "    </tr>\n",
              "    <tr>\n",
              "      <th>3</th>\n",
              "      <td>65</td>\n",
              "      <td>0</td>\n",
              "      <td>146</td>\n",
              "      <td>0</td>\n",
              "      <td>20</td>\n",
              "      <td>0</td>\n",
              "      <td>162000</td>\n",
              "      <td>1.3</td>\n",
              "      <td>129</td>\n",
              "      <td>1</td>\n",
              "      <td>1</td>\n",
              "      <td>7</td>\n",
              "      <td>1</td>\n",
              "    </tr>\n",
              "    <tr>\n",
              "      <th>4</th>\n",
              "      <td>50</td>\n",
              "      <td>1</td>\n",
              "      <td>111</td>\n",
              "      <td>0</td>\n",
              "      <td>20</td>\n",
              "      <td>0</td>\n",
              "      <td>210000</td>\n",
              "      <td>1.9</td>\n",
              "      <td>137</td>\n",
              "      <td>1</td>\n",
              "      <td>0</td>\n",
              "      <td>7</td>\n",
              "      <td>1</td>\n",
              "    </tr>\n",
              "    <tr>\n",
              "      <th>5</th>\n",
              "      <td>65</td>\n",
              "      <td>1</td>\n",
              "      <td>160</td>\n",
              "      <td>1</td>\n",
              "      <td>20</td>\n",
              "      <td>0</td>\n",
              "      <td>327000</td>\n",
              "      <td>2.7</td>\n",
              "      <td>116</td>\n",
              "      <td>0</td>\n",
              "      <td>0</td>\n",
              "      <td>8</td>\n",
              "      <td>1</td>\n",
              "    </tr>\n",
              "  </tbody>\n",
              "</table>\n",
              "</div>"
            ],
            "text/plain": [
              "  age anamia creatinine_phosphokinase diabetes  ... sex smoking time DEATH_EVENT\n",
              "1  75      0                      582        0  ...   1       0    4           1\n",
              "2  55      0                     7861        0  ...   1       0    6           1\n",
              "3  65      0                      146        0  ...   1       1    7           1\n",
              "4  50      1                      111        0  ...   1       0    7           1\n",
              "5  65      1                      160        1  ...   0       0    8           1\n",
              "\n",
              "[5 rows x 13 columns]"
            ]
          },
          "metadata": {
            "tags": []
          },
          "execution_count": 7
        }
      ]
    },
    {
      "cell_type": "code",
      "metadata": {
        "colab": {
          "base_uri": "https://localhost:8080/"
        },
        "id": "0fa5InUOBHfm",
        "outputId": "ef65a789-f065-4e19-88cd-432f5bdfbda3"
      },
      "source": [
        "# age 열의 자료형 변경 (문자열 -> 숫자)\n",
        "df['age'].unique()"
      ],
      "execution_count": 8,
      "outputs": [
        {
          "output_type": "execute_result",
          "data": {
            "text/plain": [
              "array(['75', '55', '65', '50', '90', '60', '80', '62', '45', '49', '82',\n",
              "       '87', '70', '48', '68', '53', '95', '58', '94', '85', '69', '72',\n",
              "       '51', '57', '42', '41', '67', '79', '59', '44', '63', '86', '66',\n",
              "       '43', '46', '61', '81', '52', '64', '40', '60.667', '73', '77',\n",
              "       '78', '54', '47', '56'], dtype=object)"
            ]
          },
          "metadata": {
            "tags": []
          },
          "execution_count": 8
        }
      ]
    },
    {
      "cell_type": "code",
      "metadata": {
        "colab": {
          "base_uri": "https://localhost:8080/"
        },
        "id": "r0Cq6bKBErXx",
        "outputId": "5a5bd269-5f8d-4ee8-d5b0-9fbde49ac760"
      },
      "source": [
        "# 60.667를 np.nan으로 변경\n",
        "df['age'].replace('60.667',np.nan,inplace=True)\n",
        "df.info"
      ],
      "execution_count": 9,
      "outputs": [
        {
          "output_type": "execute_result",
          "data": {
            "text/plain": [
              "<bound method DataFrame.info of     age anamia creatinine_phosphokinase diabetes  ... sex smoking time DEATH_EVENT\n",
              "1    75      0                      582        0  ...   1       0    4           1\n",
              "2    55      0                     7861        0  ...   1       0    6           1\n",
              "3    65      0                      146        0  ...   1       1    7           1\n",
              "4    50      1                      111        0  ...   1       0    7           1\n",
              "5    65      1                      160        1  ...   0       0    8           1\n",
              "..   ..    ...                      ...      ...  ...  ..     ...  ...         ...\n",
              "295  62      0                       61        1  ...   1       1  270           0\n",
              "296  55      0                     1820        0  ...   0       0  271           0\n",
              "297  45      0                     2060        1  ...   0       0  278           0\n",
              "298  45      0                     2413        0  ...   1       1  280           0\n",
              "299  50      0                      196        0  ...   1       1  285           0\n",
              "\n",
              "[299 rows x 13 columns]>"
            ]
          },
          "metadata": {
            "tags": []
          },
          "execution_count": 9
        }
      ]
    },
    {
      "cell_type": "code",
      "metadata": {
        "colab": {
          "base_uri": "https://localhost:8080/"
        },
        "id": "GUPy7qMoFJM0",
        "outputId": "cf1dd401-e943-4661-c912-1cbbb8aabb35"
      },
      "source": [
        "# nan 확인\n",
        "df['age'].unique()"
      ],
      "execution_count": 10,
      "outputs": [
        {
          "output_type": "execute_result",
          "data": {
            "text/plain": [
              "array(['75', '55', '65', '50', '90', '60', '80', '62', '45', '49', '82',\n",
              "       '87', '70', '48', '68', '53', '95', '58', '94', '85', '69', '72',\n",
              "       '51', '57', '42', '41', '67', '79', '59', '44', '63', '86', '66',\n",
              "       '43', '46', '61', '81', '52', '64', '40', nan, '73', '77', '78',\n",
              "       '54', '47', '56'], dtype=object)"
            ]
          },
          "metadata": {
            "tags": []
          },
          "execution_count": 10
        }
      ]
    },
    {
      "cell_type": "code",
      "metadata": {
        "id": "3N_wbAkgFbMO"
      },
      "source": [
        "# 데이터안 nan값 60으로 변경\n",
        "df=df.fillna(60)"
      ],
      "execution_count": 11,
      "outputs": []
    },
    {
      "cell_type": "code",
      "metadata": {
        "colab": {
          "base_uri": "https://localhost:8080/"
        },
        "id": "n6YUtP_pFwdU",
        "outputId": "a6530ffa-0ca1-488d-9071-72b0f3396655"
      },
      "source": [
        "# 변경 사항 확인\n",
        "df['age'].unique()"
      ],
      "execution_count": 12,
      "outputs": [
        {
          "output_type": "execute_result",
          "data": {
            "text/plain": [
              "array(['75', '55', '65', '50', '90', '60', '80', '62', '45', '49', '82',\n",
              "       '87', '70', '48', '68', '53', '95', '58', '94', '85', '69', '72',\n",
              "       '51', '57', '42', '41', '67', '79', '59', '44', '63', '86', '66',\n",
              "       '43', '46', '61', '81', '52', '64', '40', 60, '73', '77', '78',\n",
              "       '54', '47', '56'], dtype=object)"
            ]
          },
          "metadata": {
            "tags": []
          },
          "execution_count": 12
        }
      ]
    },
    {
      "cell_type": "code",
      "metadata": {
        "id": "Z6S5YTfjPzLc"
      },
      "source": [
        "# 열들의 자료형 변경 (문자열 -> 숫자)\n",
        "df['age']=df['age'].astype('int')\n",
        "\n",
        "df['creatinine_phosphokinase']=df['creatinine_phosphokinase'].astype('int')\n",
        "\n",
        "df['ejection_fraction']=df['ejection_fraction'].astype('int')\n",
        "\n",
        "df['platelets']=df['platelets'].astype('float')\n",
        "\n",
        "df['serum_creatinine']=df['serum_creatinine'].astype('float')\n",
        "\n",
        "df['serum_sodium']=df['serum_sodium'].astype('int')\n",
        "\n",
        "df['time']=df['time'].astype('int')\n",
        "\n",
        "df['DEATH_EVENT']=df['DEATH_EVENT'].astype('int')"
      ],
      "execution_count": 13,
      "outputs": []
    },
    {
      "cell_type": "code",
      "metadata": {
        "id": "mSNQiNm1PLrc"
      },
      "source": [
        "# 숫자 형태의 변수 -> 카테고리 형태로 변경\n",
        "categorical_var=['anamia','diabetes','high_blood_pressure','sex','smoking']\n",
        "df[categorical_var] = df[categorical_var].astype('category')"
      ],
      "execution_count": 14,
      "outputs": []
    },
    {
      "cell_type": "markdown",
      "metadata": {
        "id": "94XQyh9HGhn-"
      },
      "source": [
        "형변환 완료한 데이터 형식"
      ]
    },
    {
      "cell_type": "code",
      "metadata": {
        "colab": {
          "base_uri": "https://localhost:8080/"
        },
        "id": "j8dSoJIhEasA",
        "outputId": "6667437f-083e-41e9-a7bf-245005997de2"
      },
      "source": [
        "df.info()"
      ],
      "execution_count": 15,
      "outputs": [
        {
          "output_type": "stream",
          "text": [
            "<class 'pandas.core.frame.DataFrame'>\n",
            "Int64Index: 299 entries, 1 to 299\n",
            "Data columns (total 13 columns):\n",
            " #   Column                    Non-Null Count  Dtype   \n",
            "---  ------                    --------------  -----   \n",
            " 0   age                       299 non-null    int64   \n",
            " 1   anamia                    299 non-null    category\n",
            " 2   creatinine_phosphokinase  299 non-null    int64   \n",
            " 3   diabetes                  299 non-null    category\n",
            " 4   ejection_fraction         299 non-null    int64   \n",
            " 5   high_blood_pressure       299 non-null    category\n",
            " 6   platelets                 299 non-null    float64 \n",
            " 7   serum_creatinine          299 non-null    float64 \n",
            " 8   serum_sodium              299 non-null    int64   \n",
            " 9   sex                       299 non-null    category\n",
            " 10  smoking                   299 non-null    category\n",
            " 11  time                      299 non-null    int64   \n",
            " 12  DEATH_EVENT               299 non-null    int64   \n",
            "dtypes: category(5), float64(2), int64(6)\n",
            "memory usage: 23.0 KB\n"
          ],
          "name": "stdout"
        }
      ]
    },
    {
      "cell_type": "code",
      "metadata": {
        "colab": {
          "base_uri": "https://localhost:8080/",
          "height": 215
        },
        "id": "MEHWSltEPmrq",
        "outputId": "37dca157-0020-4dde-847d-0ce6b31ab24f"
      },
      "source": [
        "df.head()"
      ],
      "execution_count": 16,
      "outputs": [
        {
          "output_type": "execute_result",
          "data": {
            "text/html": [
              "<div>\n",
              "<style scoped>\n",
              "    .dataframe tbody tr th:only-of-type {\n",
              "        vertical-align: middle;\n",
              "    }\n",
              "\n",
              "    .dataframe tbody tr th {\n",
              "        vertical-align: top;\n",
              "    }\n",
              "\n",
              "    .dataframe thead th {\n",
              "        text-align: right;\n",
              "    }\n",
              "</style>\n",
              "<table border=\"1\" class=\"dataframe\">\n",
              "  <thead>\n",
              "    <tr style=\"text-align: right;\">\n",
              "      <th></th>\n",
              "      <th>age</th>\n",
              "      <th>anamia</th>\n",
              "      <th>creatinine_phosphokinase</th>\n",
              "      <th>diabetes</th>\n",
              "      <th>ejection_fraction</th>\n",
              "      <th>high_blood_pressure</th>\n",
              "      <th>platelets</th>\n",
              "      <th>serum_creatinine</th>\n",
              "      <th>serum_sodium</th>\n",
              "      <th>sex</th>\n",
              "      <th>smoking</th>\n",
              "      <th>time</th>\n",
              "      <th>DEATH_EVENT</th>\n",
              "    </tr>\n",
              "  </thead>\n",
              "  <tbody>\n",
              "    <tr>\n",
              "      <th>1</th>\n",
              "      <td>75</td>\n",
              "      <td>0</td>\n",
              "      <td>582</td>\n",
              "      <td>0</td>\n",
              "      <td>20</td>\n",
              "      <td>1</td>\n",
              "      <td>265000.00</td>\n",
              "      <td>1.9</td>\n",
              "      <td>130</td>\n",
              "      <td>1</td>\n",
              "      <td>0</td>\n",
              "      <td>4</td>\n",
              "      <td>1</td>\n",
              "    </tr>\n",
              "    <tr>\n",
              "      <th>2</th>\n",
              "      <td>55</td>\n",
              "      <td>0</td>\n",
              "      <td>7861</td>\n",
              "      <td>0</td>\n",
              "      <td>38</td>\n",
              "      <td>0</td>\n",
              "      <td>263358.03</td>\n",
              "      <td>1.1</td>\n",
              "      <td>136</td>\n",
              "      <td>1</td>\n",
              "      <td>0</td>\n",
              "      <td>6</td>\n",
              "      <td>1</td>\n",
              "    </tr>\n",
              "    <tr>\n",
              "      <th>3</th>\n",
              "      <td>65</td>\n",
              "      <td>0</td>\n",
              "      <td>146</td>\n",
              "      <td>0</td>\n",
              "      <td>20</td>\n",
              "      <td>0</td>\n",
              "      <td>162000.00</td>\n",
              "      <td>1.3</td>\n",
              "      <td>129</td>\n",
              "      <td>1</td>\n",
              "      <td>1</td>\n",
              "      <td>7</td>\n",
              "      <td>1</td>\n",
              "    </tr>\n",
              "    <tr>\n",
              "      <th>4</th>\n",
              "      <td>50</td>\n",
              "      <td>1</td>\n",
              "      <td>111</td>\n",
              "      <td>0</td>\n",
              "      <td>20</td>\n",
              "      <td>0</td>\n",
              "      <td>210000.00</td>\n",
              "      <td>1.9</td>\n",
              "      <td>137</td>\n",
              "      <td>1</td>\n",
              "      <td>0</td>\n",
              "      <td>7</td>\n",
              "      <td>1</td>\n",
              "    </tr>\n",
              "    <tr>\n",
              "      <th>5</th>\n",
              "      <td>65</td>\n",
              "      <td>1</td>\n",
              "      <td>160</td>\n",
              "      <td>1</td>\n",
              "      <td>20</td>\n",
              "      <td>0</td>\n",
              "      <td>327000.00</td>\n",
              "      <td>2.7</td>\n",
              "      <td>116</td>\n",
              "      <td>0</td>\n",
              "      <td>0</td>\n",
              "      <td>8</td>\n",
              "      <td>1</td>\n",
              "    </tr>\n",
              "  </tbody>\n",
              "</table>\n",
              "</div>"
            ],
            "text/plain": [
              "   age anamia  creatinine_phosphokinase diabetes  ...  sex smoking  time  DEATH_EVENT\n",
              "1   75      0                       582        0  ...    1       0     4            1\n",
              "2   55      0                      7861        0  ...    1       0     6            1\n",
              "3   65      0                       146        0  ...    1       1     7            1\n",
              "4   50      1                       111        0  ...    1       0     7            1\n",
              "5   65      1                       160        1  ...    0       0     8            1\n",
              "\n",
              "[5 rows x 13 columns]"
            ]
          },
          "metadata": {
            "tags": []
          },
          "execution_count": 16
        }
      ]
    },
    {
      "cell_type": "markdown",
      "metadata": {
        "id": "cWDnIkmuIQge"
      },
      "source": [
        "데이터 시각화"
      ]
    },
    {
      "cell_type": "code",
      "metadata": {
        "colab": {
          "base_uri": "https://localhost:8080/"
        },
        "id": "YY2_5QHmGnYZ",
        "outputId": "2e3fa5be-302c-4fc8-a228-31bd1c27f4be"
      },
      "source": [
        "# 사망 여부 확인 (0:사망, 1: 생존)\n",
        "df['DEATH_EVENT'].value_counts()"
      ],
      "execution_count": 17,
      "outputs": [
        {
          "output_type": "execute_result",
          "data": {
            "text/plain": [
              "0    203\n",
              "1     96\n",
              "Name: DEATH_EVENT, dtype: int64"
            ]
          },
          "metadata": {
            "tags": []
          },
          "execution_count": 17
        }
      ]
    },
    {
      "cell_type": "code",
      "metadata": {
        "colab": {
          "base_uri": "https://localhost:8080/",
          "height": 350
        },
        "id": "FhfQufEEM_Xv",
        "outputId": "d3504119-6e08-482f-e472-5579180eca3d"
      },
      "source": [
        "# 성별에 따른 환자의 수 (0: 여성, 1: 남성)\n",
        "sns.countplot(df.sex)"
      ],
      "execution_count": 18,
      "outputs": [
        {
          "output_type": "stream",
          "text": [
            "/usr/local/lib/python3.7/dist-packages/seaborn/_decorators.py:43: FutureWarning: Pass the following variable as a keyword arg: x. From version 0.12, the only valid positional argument will be `data`, and passing other arguments without an explicit keyword will result in an error or misinterpretation.\n",
            "  FutureWarning\n"
          ],
          "name": "stderr"
        },
        {
          "output_type": "execute_result",
          "data": {
            "text/plain": [
              "<matplotlib.axes._subplots.AxesSubplot at 0x7f50ddddcd90>"
            ]
          },
          "metadata": {
            "tags": []
          },
          "execution_count": 18
        },
        {
          "output_type": "display_data",
          "data": {
            "image/png": "[encoded data removed]",
            "text/plain": [
              "<Figure size 432x288 with 1 Axes>"
            ]
          },
          "metadata": {
            "tags": [],
            "needs_background": "light"
          }
        }
      ]
    },
    {
      "cell_type": "code",
      "metadata": {
        "colab": {
          "base_uri": "https://localhost:8080/",
          "height": 265
        },
        "id": "LjjkXR6MQkh9",
        "outputId": "73d0882e-a786-4827-be01-a712c71eee4d"
      },
      "source": [
        "# 사망자-생존자 환자 비율 (0: 사망, 1: 생존)\n",
        "df.DEATH_EVENT.value_counts().plot.pie(autopct = '%1.f%%')"
      ],
      "execution_count": 19,
      "outputs": [
        {
          "output_type": "execute_result",
          "data": {
            "text/plain": [
              "<matplotlib.axes._subplots.AxesSubplot at 0x7f50dd81dcd0>"
            ]
          },
          "metadata": {
            "tags": []
          },
          "execution_count": 19
        },
        {
          "output_type": "display_data",
          "data": {
            "image/png": "[encoded data removed]",
            "text/plain": [
              "<Figure size 432x288 with 1 Axes>"
            ]
          },
          "metadata": {
            "tags": []
          }
        }
      ]
    },
    {
      "cell_type": "code",
      "metadata": {
        "colab": {
          "base_uri": "https://localhost:8080/",
          "height": 279
        },
        "id": "of7saSQTRwxt",
        "outputId": "7d62dcbf-689c-4746-da75-f8c4a756ba99"
      },
      "source": [
        "# 바 그래프 시각화\n",
        "df.DEATH_EVENT.value_counts().plot.bar()"
      ],
      "execution_count": 20,
      "outputs": [
        {
          "output_type": "execute_result",
          "data": {
            "text/plain": [
              "<matplotlib.axes._subplots.AxesSubplot at 0x7f50dd53add0>"
            ]
          },
          "metadata": {
            "tags": []
          },
          "execution_count": 20
        },
        {
          "output_type": "display_data",
          "data": {
            "image/png": "[encoded data removed]",
            "text/plain": [
              "<Figure size 432x288 with 1 Axes>"
            ]
          },
          "metadata": {
            "tags": [],
            "needs_background": "light"
          }
        }
      ]
    },
    {
      "cell_type": "code",
      "metadata": {
        "colab": {
          "base_uri": "https://localhost:8080/",
          "height": 340
        },
        "id": "kgK0WrGzR9Ik",
        "outputId": "d340583d-912f-4538-f007-ed7f9921fbbb"
      },
      "source": [
        "# 범주형으로 되어있는 컬럼에 대한 사망, 생존의 관계 확인\n",
        "fig, ax = plt.subplots(2,3,figsize=(20,10), dpi=100) # 2행 3열\n",
        "\n",
        "for axis, cat_var in zip(ax.ravel(), categorical_var) :\n",
        "  sns.countplot(x=cat_var, data=df, hue='DEATH_EVENT', ax=axis)"
      ],
      "execution_count": 21,
      "outputs": [
        {
          "output_type": "display_data",
          "data": {
            "image/png": "[encoded data removed]",
            "text/plain": [
              "<Figure size 2000x1000 with 6 Axes>"
            ]
          },
          "metadata": {
            "tags": [],
            "needs_background": "light"
          }
        }
      ]
    },
    {
      "cell_type": "code",
      "metadata": {
        "id": "wjxsuXSgSYdF"
      },
      "source": [
        "# 수치형으로 되어 있는 컬럼 -> 이상치\n",
        "numeric_var = [i for i in df.columns if i not in categorical_var][:-1]"
      ],
      "execution_count": 22,
      "outputs": []
    },
    {
      "cell_type": "code",
      "metadata": {
        "colab": {
          "base_uri": "https://localhost:8080/",
          "height": 337
        },
        "id": "3WdjFu3WTdBk",
        "outputId": "590f73cc-90fb-4788-a8a4-b9e1f274fbfa"
      },
      "source": [
        "fig, ax = plt.subplots(1,5,figsize=(10,5), dpi=200) # 1행 5열\n",
        "\n",
        "for axis, num_var in zip(ax, numeric_var) :\n",
        "  sns.boxplot(y=num_var, data=df, x='DEATH_EVENT', ax=axis)\n",
        "\n",
        "plt.tight_layout()"
      ],
      "execution_count": 23,
      "outputs": [
        {
          "output_type": "display_data",
          "data": {
            "image/png": "[encoded data removed]",
            "text/plain": [
              "<Figure size 2000x1000 with 5 Axes>"
            ]
          },
          "metadata": {
            "tags": [],
            "needs_background": "light"
          }
        }
      ]
    },
    {
      "cell_type": "markdown",
      "metadata": {
        "id": "0XfSsDa5Yub1"
      },
      "source": [
        "데이터 분리하기"
      ]
    },
    {
      "cell_type": "code",
      "metadata": {
        "id": "9VX_gcDoThPv"
      },
      "source": [
        "# X(시험지), y(정답지) 분리하기\n",
        "X = df.iloc[:,:-1]\n",
        "y = df['DEATH_EVENT']"
      ],
      "execution_count": 24,
      "outputs": []
    },
    {
      "cell_type": "markdown",
      "metadata": {
        "id": "HGtBtTWfZH4X"
      },
      "source": [
        "![다운로드.png](data:image/png;base64,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)"
      ]
    },
    {
      "cell_type": "code",
      "metadata": {
        "id": "uOgsTHh5ZB52"
      },
      "source": [
        "# 원-핫 인코딩 처리\n",
        "# 컬럼 -> 원-핫 인코딩 처리\n",
        "temp = pd.get_dummies(X[categorical_var], drop_first=True)"
      ],
      "execution_count": 25,
      "outputs": []
    },
    {
      "cell_type": "code",
      "metadata": {
        "id": "GcBjeGokZU8y"
      },
      "source": [
        "# 기존 데이터랑 합치기\n",
        "X_modified = pd.concat([X,temp], axis=1)"
      ],
      "execution_count": 26,
      "outputs": []
    },
    {
      "cell_type": "code",
      "metadata": {
        "id": "gaYQdBKnZWni"
      },
      "source": [
        "# 기존 컬럼 삭제\n",
        "X_modified.drop(categorical_var, axis=1, inplace=True)"
      ],
      "execution_count": 27,
      "outputs": []
    },
    {
      "cell_type": "code",
      "metadata": {
        "colab": {
          "base_uri": "https://localhost:8080/",
          "height": 215
        },
        "id": "1bZ-_HTAZYWA",
        "outputId": "55f58398-e580-4eb4-8a4b-737ecdeca250"
      },
      "source": [
        "X_modified.head()"
      ],
      "execution_count": 28,
      "outputs": [
        {
          "output_type": "execute_result",
          "data": {
            "text/html": [
              "<div>\n",
              "<style scoped>\n",
              "    .dataframe tbody tr th:only-of-type {\n",
              "        vertical-align: middle;\n",
              "    }\n",
              "\n",
              "    .dataframe tbody tr th {\n",
              "        vertical-align: top;\n",
              "    }\n",
              "\n",
              "    .dataframe thead th {\n",
              "        text-align: right;\n",
              "    }\n",
              "</style>\n",
              "<table border=\"1\" class=\"dataframe\">\n",
              "  <thead>\n",
              "    <tr style=\"text-align: right;\">\n",
              "      <th></th>\n",
              "      <th>age</th>\n",
              "      <th>creatinine_phosphokinase</th>\n",
              "      <th>ejection_fraction</th>\n",
              "      <th>platelets</th>\n",
              "      <th>serum_creatinine</th>\n",
              "      <th>serum_sodium</th>\n",
              "      <th>time</th>\n",
              "      <th>anamia_1</th>\n",
              "      <th>diabetes_1</th>\n",
              "      <th>high_blood_pressure_1</th>\n",
              "      <th>sex_1</th>\n",
              "      <th>smoking_1</th>\n",
              "    </tr>\n",
              "  </thead>\n",
              "  <tbody>\n",
              "    <tr>\n",
              "      <th>1</th>\n",
              "      <td>75</td>\n",
              "      <td>582</td>\n",
              "      <td>20</td>\n",
              "      <td>265000.00</td>\n",
              "      <td>1.9</td>\n",
              "      <td>130</td>\n",
              "      <td>4</td>\n",
              "      <td>0</td>\n",
              "      <td>0</td>\n",
              "      <td>1</td>\n",
              "      <td>1</td>\n",
              "      <td>0</td>\n",
              "    </tr>\n",
              "    <tr>\n",
              "      <th>2</th>\n",
              "      <td>55</td>\n",
              "      <td>7861</td>\n",
              "      <td>38</td>\n",
              "      <td>263358.03</td>\n",
              "      <td>1.1</td>\n",
              "      <td>136</td>\n",
              "      <td>6</td>\n",
              "      <td>0</td>\n",
              "      <td>0</td>\n",
              "      <td>0</td>\n",
              "      <td>1</td>\n",
              "      <td>0</td>\n",
              "    </tr>\n",
              "    <tr>\n",
              "      <th>3</th>\n",
              "      <td>65</td>\n",
              "      <td>146</td>\n",
              "      <td>20</td>\n",
              "      <td>162000.00</td>\n",
              "      <td>1.3</td>\n",
              "      <td>129</td>\n",
              "      <td>7</td>\n",
              "      <td>0</td>\n",
              "      <td>0</td>\n",
              "      <td>0</td>\n",
              "      <td>1</td>\n",
              "      <td>1</td>\n",
              "    </tr>\n",
              "    <tr>\n",
              "      <th>4</th>\n",
              "      <td>50</td>\n",
              "      <td>111</td>\n",
              "      <td>20</td>\n",
              "      <td>210000.00</td>\n",
              "      <td>1.9</td>\n",
              "      <td>137</td>\n",
              "      <td>7</td>\n",
              "      <td>1</td>\n",
              "      <td>0</td>\n",
              "      <td>0</td>\n",
              "      <td>1</td>\n",
              "      <td>0</td>\n",
              "    </tr>\n",
              "    <tr>\n",
              "      <th>5</th>\n",
              "      <td>65</td>\n",
              "      <td>160</td>\n",
              "      <td>20</td>\n",
              "      <td>327000.00</td>\n",
              "      <td>2.7</td>\n",
              "      <td>116</td>\n",
              "      <td>8</td>\n",
              "      <td>1</td>\n",
              "      <td>1</td>\n",
              "      <td>0</td>\n",
              "      <td>0</td>\n",
              "      <td>0</td>\n",
              "    </tr>\n",
              "  </tbody>\n",
              "</table>\n",
              "</div>"
            ],
            "text/plain": [
              "   age  creatinine_phosphokinase  ...  sex_1  smoking_1\n",
              "1   75                       582  ...      1          0\n",
              "2   55                      7861  ...      1          0\n",
              "3   65                       146  ...      1          1\n",
              "4   50                       111  ...      1          0\n",
              "5   65                       160  ...      0          0\n",
              "\n",
              "[5 rows x 12 columns]"
            ]
          },
          "metadata": {
            "tags": []
          },
          "execution_count": 28
        }
      ]
    },
    {
      "cell_type": "markdown",
      "metadata": {
        "id": "tSMDUC8tZfVj"
      },
      "source": [
        "훈련용, 테스트 데이터 분리하기"
      ]
    },
    {
      "cell_type": "code",
      "metadata": {
        "id": "eXRTZB4KZZXU"
      },
      "source": [
        "X_train, X_test, y_train, y_test = train_test_split(X_modified,y,\n",
        "                                                    train_size=0.8, # test_size\n",
        "                                                    random_state=7)"
      ],
      "execution_count": 29,
      "outputs": []
    },
    {
      "cell_type": "markdown",
      "metadata": {
        "id": "tTc4V-RAZkIS"
      },
      "source": [
        "차원 축소 -> 스케일링"
      ]
    },
    {
      "cell_type": "code",
      "metadata": {
        "colab": {
          "base_uri": "https://localhost:8080/"
        },
        "id": "kvVfpoA9Zi9J",
        "outputId": "e6384975-4f0e-41f4-ca92-f45722c7637e"
      },
      "source": [
        "# 수치형 데이터 정규화\n",
        "scaler = StandardScaler()\n",
        "X_train[numeric_var] = scaler.fit_transform(X_train[numeric_var])\n",
        "X_test[numeric_var] = scaler.fit_transform(X_test[numeric_var])"
      ],
      "execution_count": 30,
      "outputs": [
        {
          "output_type": "stream",
          "text": [
            "/usr/local/lib/python3.7/dist-packages/ipykernel_launcher.py:3: SettingWithCopyWarning: \n",
            "A value is trying to be set on a copy of a slice from a DataFrame.\n",
            "Try using .loc[row_indexer,col_indexer] = value instead\n",
            "\n",
            "See the caveats in the documentation: https://pandas.pydata.org/pandas-docs/stable/user_guide/indexing.html#returning-a-view-versus-a-copy\n",
            "  This is separate from the ipykernel package so we can avoid doing imports until\n",
            "/usr/local/lib/python3.7/dist-packages/pandas/core/indexing.py:1734: SettingWithCopyWarning: \n",
            "A value is trying to be set on a copy of a slice from a DataFrame.\n",
            "Try using .loc[row_indexer,col_indexer] = value instead\n",
            "\n",
            "See the caveats in the documentation: https://pandas.pydata.org/pandas-docs/stable/user_guide/indexing.html#returning-a-view-versus-a-copy\n",
            "  isetter(loc, value[:, i].tolist())\n",
            "/usr/local/lib/python3.7/dist-packages/ipykernel_launcher.py:4: SettingWithCopyWarning: \n",
            "A value is trying to be set on a copy of a slice from a DataFrame.\n",
            "Try using .loc[row_indexer,col_indexer] = value instead\n",
            "\n",
            "See the caveats in the documentation: https://pandas.pydata.org/pandas-docs/stable/user_guide/indexing.html#returning-a-view-versus-a-copy\n",
            "  after removing the cwd from sys.path.\n",
            "/usr/local/lib/python3.7/dist-packages/pandas/core/indexing.py:1734: SettingWithCopyWarning: \n",
            "A value is trying to be set on a copy of a slice from a DataFrame.\n",
            "Try using .loc[row_indexer,col_indexer] = value instead\n",
            "\n",
            "See the caveats in the documentation: https://pandas.pydata.org/pandas-docs/stable/user_guide/indexing.html#returning-a-view-versus-a-copy\n",
            "  isetter(loc, value[:, i].tolist())\n"
          ],
          "name": "stderr"
        }
      ]
    },
    {
      "cell_type": "code",
      "metadata": {
        "colab": {
          "base_uri": "https://localhost:8080/",
          "height": 215
        },
        "id": "udaRaq3dZnSN",
        "outputId": "740ae537-9081-4ccd-8f35-e346c41cab0a"
      },
      "source": [
        "X_train.head()"
      ],
      "execution_count": 31,
      "outputs": [
        {
          "output_type": "execute_result",
          "data": {
            "text/html": [
              "<div>\n",
              "<style scoped>\n",
              "    .dataframe tbody tr th:only-of-type {\n",
              "        vertical-align: middle;\n",
              "    }\n",
              "\n",
              "    .dataframe tbody tr th {\n",
              "        vertical-align: top;\n",
              "    }\n",
              "\n",
              "    .dataframe thead th {\n",
              "        text-align: right;\n",
              "    }\n",
              "</style>\n",
              "<table border=\"1\" class=\"dataframe\">\n",
              "  <thead>\n",
              "    <tr style=\"text-align: right;\">\n",
              "      <th></th>\n",
              "      <th>age</th>\n",
              "      <th>creatinine_phosphokinase</th>\n",
              "      <th>ejection_fraction</th>\n",
              "      <th>platelets</th>\n",
              "      <th>serum_creatinine</th>\n",
              "      <th>serum_sodium</th>\n",
              "      <th>time</th>\n",
              "      <th>anamia_1</th>\n",
              "      <th>diabetes_1</th>\n",
              "      <th>high_blood_pressure_1</th>\n",
              "      <th>sex_1</th>\n",
              "      <th>smoking_1</th>\n",
              "    </tr>\n",
              "  </thead>\n",
              "  <tbody>\n",
              "    <tr>\n",
              "      <th>189</th>\n",
              "      <td>-0.067326</td>\n",
              "      <td>-0.459498</td>\n",
              "      <td>0.137249</td>\n",
              "      <td>-0.653909</td>\n",
              "      <td>-0.399019</td>\n",
              "      <td>-0.099685</td>\n",
              "      <td>0.549299</td>\n",
              "      <td>1</td>\n",
              "      <td>1</td>\n",
              "      <td>1</td>\n",
              "      <td>0</td>\n",
              "      <td>0</td>\n",
              "    </tr>\n",
              "    <tr>\n",
              "      <th>95</th>\n",
              "      <td>-0.231518</td>\n",
              "      <td>-0.466878</td>\n",
              "      <td>-0.028420</td>\n",
              "      <td>0.611020</td>\n",
              "      <td>-0.664463</td>\n",
              "      <td>1.223914</td>\n",
              "      <td>-0.587733</td>\n",
              "      <td>0</td>\n",
              "      <td>1</td>\n",
              "      <td>1</td>\n",
              "      <td>0</td>\n",
              "      <td>0</td>\n",
              "    </tr>\n",
              "    <tr>\n",
              "      <th>127</th>\n",
              "      <td>-1.216669</td>\n",
              "      <td>-0.441575</td>\n",
              "      <td>-1.767942</td>\n",
              "      <td>0.048830</td>\n",
              "      <td>0.574279</td>\n",
              "      <td>-2.746884</td>\n",
              "      <td>-0.370547</td>\n",
              "      <td>0</td>\n",
              "      <td>1</td>\n",
              "      <td>1</td>\n",
              "      <td>0</td>\n",
              "      <td>0</td>\n",
              "    </tr>\n",
              "    <tr>\n",
              "      <th>243</th>\n",
              "      <td>-1.709245</td>\n",
              "      <td>-0.523810</td>\n",
              "      <td>-0.276923</td>\n",
              "      <td>-0.111796</td>\n",
              "      <td>-0.310537</td>\n",
              "      <td>-0.099685</td>\n",
              "      <td>1.060324</td>\n",
              "      <td>0</td>\n",
              "      <td>0</td>\n",
              "      <td>0</td>\n",
              "      <td>1</td>\n",
              "      <td>1</td>\n",
              "    </tr>\n",
              "    <tr>\n",
              "      <th>79</th>\n",
              "      <td>1.164114</td>\n",
              "      <td>-0.404674</td>\n",
              "      <td>-0.028420</td>\n",
              "      <td>0.169299</td>\n",
              "      <td>-0.752945</td>\n",
              "      <td>-1.202685</td>\n",
              "      <td>-0.702714</td>\n",
              "      <td>1</td>\n",
              "      <td>1</td>\n",
              "      <td>1</td>\n",
              "      <td>1</td>\n",
              "      <td>1</td>\n",
              "    </tr>\n",
              "  </tbody>\n",
              "</table>\n",
              "</div>"
            ],
            "text/plain": [
              "          age  creatinine_phosphokinase  ...  sex_1  smoking_1\n",
              "189 -0.067326                 -0.459498  ...      0          0\n",
              "95  -0.231518                 -0.466878  ...      0          0\n",
              "127 -1.216669                 -0.441575  ...      0          0\n",
              "243 -1.709245                 -0.523810  ...      1          1\n",
              "79   1.164114                 -0.404674  ...      1          1\n",
              "\n",
              "[5 rows x 12 columns]"
            ]
          },
          "metadata": {
            "tags": []
          },
          "execution_count": 31
        }
      ]
    },
    {
      "cell_type": "markdown",
      "metadata": {
        "id": "dXykbw3SZu-M"
      },
      "source": [
        "머신러닝 모델 구축 -1) LogisticRegression"
      ]
    },
    {
      "cell_type": "code",
      "metadata": {
        "id": "fPv_P_QsZqzc"
      },
      "source": [
        "log_reg = LogisticRegression().fit(X_train, y_train)"
      ],
      "execution_count": 32,
      "outputs": []
    },
    {
      "cell_type": "code",
      "metadata": {
        "colab": {
          "base_uri": "https://localhost:8080/"
        },
        "id": "6WCZ9sKzZw2P",
        "outputId": "f1143336-201a-4d53-a6e4-49a430b2332c"
      },
      "source": [
        "#정확도 확인\n",
        "print('Train data Score: ' , log_reg.score(X_train,y_train))\n",
        "print('Test data Score: ' , log_reg.score(X_test,y_test))"
      ],
      "execution_count": 33,
      "outputs": [
        {
          "output_type": "stream",
          "text": [
            "Train data Score:  0.8368200836820083\n",
            "Test data Score:  0.8333333333333334\n"
          ],
          "name": "stdout"
        }
      ]
    },
    {
      "cell_type": "markdown",
      "metadata": {
        "id": "95SAAcTUZ1Bj"
      },
      "source": [
        "머신러닝 모델 구축 -2) Decision Tree"
      ]
    },
    {
      "cell_type": "code",
      "metadata": {
        "id": "g0Ga0yRNZzD9"
      },
      "source": [
        "tree = DecisionTreeClassifier(max_depth=5,\n",
        "                              min_samples_leaf=20,\n",
        "                              min_samples_split=40).fit(X_train, y_train)"
      ],
      "execution_count": 34,
      "outputs": []
    },
    {
      "cell_type": "code",
      "metadata": {
        "colab": {
          "base_uri": "https://localhost:8080/"
        },
        "id": "uACZKI8gZ5XQ",
        "outputId": "12f5781f-4d5d-4754-c2e0-811d60356872"
      },
      "source": [
        "# 정확도 확인\n",
        "print('Train data Score: ' , tree.score(X_train,y_train))\n",
        "print('Test data Score: ' , tree.score(X_test,y_test))"
      ],
      "execution_count": 35,
      "outputs": [
        {
          "output_type": "stream",
          "text": [
            "Train data Score:  0.8493723849372385\n",
            "Test data Score:  0.8833333333333333\n"
          ],
          "name": "stdout"
        }
      ]
    },
    {
      "cell_type": "markdown",
      "metadata": {
        "id": "LxmKxc_2Z7pd"
      },
      "source": [
        "머신러닝 모델 구축 -3) GradientBoostiongClassifier"
      ]
    },
    {
      "cell_type": "code",
      "metadata": {
        "id": "NQpJGaK1Z6z-"
      },
      "source": [
        "boost = GradientBoostingClassifier(max_depth=3,\n",
        "                                   learning_rate=0.05).fit(X_train, y_train)"
      ],
      "execution_count": 36,
      "outputs": []
    },
    {
      "cell_type": "code",
      "metadata": {
        "colab": {
          "base_uri": "https://localhost:8080/"
        },
        "id": "GCqvnLtKZ_dN",
        "outputId": "37bbf576-0ec3-453c-d7e6-bfd6d1e9aa1d"
      },
      "source": [
        "# 정확도 확인\n",
        "print('Train data Score: ' , boost.score(X_train,y_train))\n",
        "print('Test data Score: ' , boost.score(X_test,y_test))"
      ],
      "execution_count": 37,
      "outputs": [
        {
          "output_type": "stream",
          "text": [
            "Train data Score:  0.9832635983263598\n",
            "Test data Score:  0.8666666666666667\n"
          ],
          "name": "stdout"
        }
      ]
    },
    {
      "cell_type": "markdown",
      "metadata": {
        "id": "EcZcpXPraDqB"
      },
      "source": [
        "성능평가 -ROC 커브"
      ]
    },
    {
      "cell_type": "code",
      "metadata": {
        "id": "y-BvWuZhaBBF"
      },
      "source": [
        "def plot_auc_roc(model):\n",
        "    probs = model.predict_proba(X_test)\n",
        "    preds = probs[:,1]\n",
        "    fpr, tpr, threshold = metrics.roc_curve(y_test, preds)\n",
        "    roc_auc = metrics.auc(fpr, tpr)\n",
        "\n",
        "    # method I: plt\n",
        "    import matplotlib.pyplot as plt\n",
        "    plt.title('Receiver Operating Characteristic')\n",
        "    plt.plot(fpr, tpr, 'b', label = 'AUC = %0.2f' % roc_auc)\n",
        "    plt.legend(loc = 'lower right')\n",
        "    plt.plot([0, 1], [0, 1],'r--')\n",
        "    plt.xlim([0, 1])\n",
        "    plt.ylim([0, 1])\n",
        "    plt.ylabel('True Positive Rate')\n",
        "    plt.xlabel('False Positive Rate')\n",
        "    plt.show()"
      ],
      "execution_count": 38,
      "outputs": []
    },
    {
      "cell_type": "code",
      "metadata": {
        "colab": {
          "base_uri": "https://localhost:8080/",
          "height": 295
        },
        "id": "hxKSC5IuaFh7",
        "outputId": "ed7f1b4c-6a7d-43fa-a0ed-04e74e7f742a"
      },
      "source": [
        "# Logistic Regression ROC\n",
        "plot_auc_roc(log_reg)"
      ],
      "execution_count": 39,
      "outputs": [
        {
          "output_type": "display_data",
          "data": {
            "image/png": "[encoded data removed]",
            "text/plain": [
              "<Figure size 432x288 with 1 Axes>"
            ]
          },
          "metadata": {
            "tags": [],
            "needs_background": "light"
          }
        }
      ]
    },
    {
      "cell_type": "code",
      "metadata": {
        "colab": {
          "base_uri": "https://localhost:8080/",
          "height": 295
        },
        "id": "D8W-U6pHaG22",
        "outputId": "2d33f40d-cb3d-4362-a6db-1ca3b03b1dff"
      },
      "source": [
        "# Tree\n",
        "plot_auc_roc(tree)"
      ],
      "execution_count": 40,
      "outputs": [
        {
          "output_type": "display_data",
          "data": {
            "image/png": "[encoded data removed]",
            "text/plain": [
              "<Figure size 432x288 with 1 Axes>"
            ]
          },
          "metadata": {
            "tags": [],
            "needs_background": "light"
          }
        }
      ]
    },
    {
      "cell_type": "code",
      "metadata": {
        "colab": {
          "base_uri": "https://localhost:8080/",
          "height": 295
        },
        "id": "Nz8ytz9ha5nf",
        "outputId": "638079d3-b0fa-4ab5-b560-6ac5eca049cf"
      },
      "source": [
        "# GradientBoostingClassifie\n",
        "plot_auc_roc(boost)"
      ],
      "execution_count": 41,
      "outputs": [
        {
          "output_type": "display_data",
          "data": {
            "image/png": "[encoded data removed]",
            "text/plain": [
              "<Figure size 432x288 with 1 Axes>"
            ]
          },
          "metadata": {
            "tags": [],
            "needs_background": "light"
          }
        }
      ]
    },
    {
      "cell_type": "markdown",
      "metadata": {
        "id": "v8aehhIhbDej"
      },
      "source": [
        "모델 성능 평가"
      ]
    },
    {
      "cell_type": "code",
      "metadata": {
        "colab": {
          "base_uri": "https://localhost:8080/"
        },
        "id": "dcCyeq03a8Du",
        "outputId": "187728b3-e62b-47a9-c060-21c6e9d2b026"
      },
      "source": [
        "# Logistic Regression 평가 지표\n",
        "lg_y_hat = log_reg.predict(X_test)\n",
        "lg_report = metrics.classification_report(y_test, lg_y_hat)\n",
        "print('Logistic Regression 평가 지표')\n",
        "print(lg_report)\n",
        "print('accuracy', metrics.accuracy_score(y_test,lg_y_hat) )\n",
        "print('precision', metrics.precision_score(y_test,lg_y_hat) )\n",
        "print('recall', metrics.recall_score(y_test,lg_y_hat) )\n",
        "print('f1', metrics.f1_score(y_test,lg_y_hat) )"
      ],
      "execution_count": 42,
      "outputs": [
        {
          "output_type": "stream",
          "text": [
            "Logistic Regression 평가 지표\n",
            "              precision    recall  f1-score   support\n",
            "\n",
            "           0       0.89      0.89      0.89        46\n",
            "           1       0.64      0.64      0.64        14\n",
            "\n",
            "    accuracy                           0.83        60\n",
            "   macro avg       0.77      0.77      0.77        60\n",
            "weighted avg       0.83      0.83      0.83        60\n",
            "\n",
            "accuracy 0.8333333333333334\n",
            "precision 0.6428571428571429\n",
            "recall 0.6428571428571429\n",
            "f1 0.6428571428571429\n"
          ],
          "name": "stdout"
        }
      ]
    },
    {
      "cell_type": "code",
      "metadata": {
        "colab": {
          "base_uri": "https://localhost:8080/"
        },
        "id": "iKKEimMYbGeo",
        "outputId": "513ce6b1-8155-4d0a-debc-64a8512e23f0"
      },
      "source": [
        "# tree 평가 지표\n",
        "tree_y_hat = tree.predict(X_test)\n",
        "tree_report = metrics.classification_report(y_test, tree_y_hat)\n",
        "print('tree 평가 지표')\n",
        "print(tree_report)\n",
        "print('accuracy', metrics.accuracy_score(y_test,tree_y_hat) )\n",
        "print('precision', metrics.precision_score(y_test,tree_y_hat) )\n",
        "print('recall', metrics.recall_score(y_test,tree_y_hat) )\n",
        "print('f1', metrics.f1_score(y_test,tree_y_hat) )"
      ],
      "execution_count": 43,
      "outputs": [
        {
          "output_type": "stream",
          "text": [
            "tree 평가 지표\n",
            "              precision    recall  f1-score   support\n",
            "\n",
            "           0       0.98      0.87      0.92        46\n",
            "           1       0.68      0.93      0.79        14\n",
            "\n",
            "    accuracy                           0.88        60\n",
            "   macro avg       0.83      0.90      0.85        60\n",
            "weighted avg       0.91      0.88      0.89        60\n",
            "\n",
            "accuracy 0.8833333333333333\n",
            "precision 0.6842105263157895\n",
            "recall 0.9285714285714286\n",
            "f1 0.7878787878787878\n"
          ],
          "name": "stdout"
        }
      ]
    },
    {
      "cell_type": "code",
      "metadata": {
        "colab": {
          "base_uri": "https://localhost:8080/"
        },
        "id": "oN_djRnzbJwb",
        "outputId": "460f7f5e-849d-4503-b837-964eb2be0b18"
      },
      "source": [
        "# boost 평가 지표\n",
        "boost_y_hat = boost.predict(X_test)\n",
        "boost_report = metrics.classification_report(y_test, boost_y_hat)\n",
        "print('boost 평가 지표')\n",
        "print(boost_report)\n",
        "print('accuracy', metrics.accuracy_score(y_test,boost_y_hat) )\n",
        "print('precision', metrics.precision_score(y_test,boost_y_hat) )\n",
        "print('recall', metrics.recall_score(y_test,boost_y_hat) )\n",
        "print('f1', metrics.f1_score(y_test,boost_y_hat) )"
      ],
      "execution_count": 44,
      "outputs": [
        {
          "output_type": "stream",
          "text": [
            "boost 평가 지표\n",
            "              precision    recall  f1-score   support\n",
            "\n",
            "           0       0.93      0.89      0.91        46\n",
            "           1       0.69      0.79      0.73        14\n",
            "\n",
            "    accuracy                           0.87        60\n",
            "   macro avg       0.81      0.84      0.82        60\n",
            "weighted avg       0.87      0.87      0.87        60\n",
            "\n",
            "accuracy 0.8666666666666667\n",
            "precision 0.6875\n",
            "recall 0.7857142857142857\n",
            "f1 0.7333333333333334\n"
          ],
          "name": "stdout"
        }
      ]
    },
    {
      "cell_type": "code",
      "metadata": {
        "id": "nBTCgR6JbMBQ"
      },
      "source": [
        "precision_list = []\n",
        "recall_list = []\n",
        "\n",
        "precision_list.append(metrics.precision_score(y_test, lg_y_hat))\n",
        "recall_list.append(metrics.recall_score(y_test, lg_y_hat))\n",
        "\n",
        "precision_list.append(metrics.precision_score(y_test, tree_y_hat))\n",
        "recall_list.append(metrics.recall_score(y_test, tree_y_hat))\n",
        "\n",
        "precision_list.append(metrics.precision_score(y_test, boost_y_hat))\n",
        "recall_list.append(metrics.recall_score(y_test, boost_y_hat))"
      ],
      "execution_count": 45,
      "outputs": []
    },
    {
      "cell_type": "code",
      "metadata": {
        "colab": {
          "base_uri": "https://localhost:8080/",
          "height": 265
        },
        "id": "oyiICWMJbOje",
        "outputId": "4f530322-a5cc-4f8b-cf41-69cc45fb9bac"
      },
      "source": [
        "plt.plot(['lg', 'tree', 'boost'], precision_list, label='precision')\n",
        "plt.plot(['lg', 'tree', 'boost'], recall_list, label='recall')\n",
        "plt.legend()\n",
        "plt.show()"
      ],
      "execution_count": 46,
      "outputs": [
        {
          "output_type": "display_data",
          "data": {
            "image/png": "[encoded data removed]",
            "text/plain": [
              "<Figure size 432x288 with 1 Axes>"
            ]
          },
          "metadata": {
            "tags": [],
            "needs_background": "light"
          }
        }
      ]
    }
  ]
}
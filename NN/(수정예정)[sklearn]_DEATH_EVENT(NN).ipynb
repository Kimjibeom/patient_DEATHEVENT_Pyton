{
  "nbformat": 4,
  "nbformat_minor": 0,
  "metadata": {
    "colab": {
      "name": "[sklearn] DEATH_EVENT(NN)",
      "provenance": []
    },
    "kernelspec": {
      "name": "python3",
      "display_name": "Python 3"
    },
    "language_info": {
      "name": "python"
    }
  },
  "cells": [
    {
      "cell_type": "markdown",
      "metadata": {
        "id": "GYe74eD-DcwK"
      },
      "source": [
        "# 문제 정의\n",
        "\n",
        "제공 받은 Dataset은 age, anaemia, high blood pressure, diabetes 등의 병원데이터라고 추측되는 데이터이고 DEATH_EVENT는 해당 환자의 사후관리 기간 중 사망한 경우를 나타냅니다."
      ]
    },
    {
      "cell_type": "markdown",
      "metadata": {
        "id": "H_36Tn6aDxh1"
      },
      "source": [
        "라이브러리 임포트"
      ]
    },
    {
      "cell_type": "code",
      "metadata": {
        "id": "bqt3IQ5nDQ35"
      },
      "source": [
        "# Libraies for reading and handling the data\n",
        "import numpy as np\n",
        "import pandas as pd\n",
        "import re\n",
        "\n",
        "# Libraries for data visualization\n",
        "import matplotlib.pyplot as plt\n",
        "import seaborn as sns\n",
        "\n",
        "# Libraries for data preprocessing\n",
        "from sklearn.model_selection import train_test_split\n",
        "from sklearn.preprocessing import StandardScaler, OrdinalEncoder, OneHotEncoder\n",
        "from sklearn.compose import ColumnTransformer\n",
        "from sklearn.base import BaseEstimator, TransformerMixin\n",
        "\n",
        "# Libraries for creating ML model\n",
        "from sklearn.linear_model import LogisticRegression\n",
        "from sklearn.tree import DecisionTreeClassifier\n",
        "from sklearn.ensemble import RandomForestClassifier\n",
        "from sklearn.ensemble import GradientBoostingClassifier\n",
        "\n",
        "# Library for Analysing the ML model\n",
        "from sklearn import metrics"
      ],
      "execution_count": 1,
      "outputs": []
    },
    {
      "cell_type": "code",
      "metadata": {
        "colab": {
          "base_uri": "https://localhost:8080/"
        },
        "id": "7m671N9oSXHK",
        "outputId": "8b693280-87d1-495f-facb-f3cff81e3dbf"
      },
      "source": [
        "import matplotlib as mpl\n",
        "import matplotlib.pyplot as plt\n",
        " \n",
        "%config InlineBackend.figure_format = 'retina'\n",
        " \n",
        "!apt -qq -y install fonts-nanum\n",
        " \n",
        "import matplotlib.font_manager as fm\n",
        "\n",
        "fontpath = '/usr/share/fonts/truetype/nanum/NanumBarunGothic.ttf'\n",
        "font = fm.FontProperties(fname=fontpath, size=9)\n",
        "plt.rc('font', family='NanumBarunGothic') \n",
        "mpl.font_manager._rebuild()"
      ],
      "execution_count": 2,
      "outputs": [
        {
          "output_type": "stream",
          "text": [
            "fonts-nanum is already the newest version (20170925-1).\n",
            "0 upgraded, 0 newly installed, 0 to remove and 39 not upgraded.\n"
          ],
          "name": "stdout"
        }
      ]
    },
    {
      "cell_type": "markdown",
      "metadata": {
        "id": "NOhb_8PeD1To"
      },
      "source": [
        "데이터 준비하기"
      ]
    },
    {
      "cell_type": "code",
      "metadata": {
        "id": "OUMXYE0hD0m8"
      },
      "source": [
        "# csv 파일을 데이터프레임으로 변환\n",
        "df = pd.read_csv('data.csv', header=None)"
      ],
      "execution_count": 3,
      "outputs": []
    },
    {
      "cell_type": "code",
      "metadata": {
        "id": "lJac_c6XD5Rv"
      },
      "source": [
        "# 열 이름 지정\n",
        "df.columns = ['age','anamia','creatinine_phosphokinase','diabetes','ejection_fraction',\n",
        "              'high_blood_pressure','platelets','serum_creatinine','serum_sodium',\n",
        "              'sex','smoking','time','DEATH_EVENT']"
      ],
      "execution_count": 4,
      "outputs": []
    },
    {
      "cell_type": "markdown",
      "metadata": {
        "id": "VRvSrqrfEKB9"
      },
      "source": [
        "데이터 탐색 및 데이터 전처리"
      ]
    },
    {
      "cell_type": "code",
      "metadata": {
        "colab": {
          "base_uri": "https://localhost:8080/",
          "height": 215
        },
        "id": "1K6CgNRsD-H0",
        "outputId": "8b44f279-7fb2-4e44-cb01-8375734d9502"
      },
      "source": [
        "# column 추가로 중복된 첫 번째행 삭제\n",
        "df= df.drop(0,0)\n",
        "df.head()"
      ],
      "execution_count": 5,
      "outputs": [
        {
          "output_type": "execute_result",
          "data": {
            "text/html": [
              "<div>\n",
              "<style scoped>\n",
              "    .dataframe tbody tr th:only-of-type {\n",
              "        vertical-align: middle;\n",
              "    }\n",
              "\n",
              "    .dataframe tbody tr th {\n",
              "        vertical-align: top;\n",
              "    }\n",
              "\n",
              "    .dataframe thead th {\n",
              "        text-align: right;\n",
              "    }\n",
              "</style>\n",
              "<table border=\"1\" class=\"dataframe\">\n",
              "  <thead>\n",
              "    <tr style=\"text-align: right;\">\n",
              "      <th></th>\n",
              "      <th>age</th>\n",
              "      <th>anamia</th>\n",
              "      <th>creatinine_phosphokinase</th>\n",
              "      <th>diabetes</th>\n",
              "      <th>ejection_fraction</th>\n",
              "      <th>high_blood_pressure</th>\n",
              "      <th>platelets</th>\n",
              "      <th>serum_creatinine</th>\n",
              "      <th>serum_sodium</th>\n",
              "      <th>sex</th>\n",
              "      <th>smoking</th>\n",
              "      <th>time</th>\n",
              "      <th>DEATH_EVENT</th>\n",
              "    </tr>\n",
              "  </thead>\n",
              "  <tbody>\n",
              "    <tr>\n",
              "      <th>1</th>\n",
              "      <td>75</td>\n",
              "      <td>0</td>\n",
              "      <td>582</td>\n",
              "      <td>0</td>\n",
              "      <td>20</td>\n",
              "      <td>1</td>\n",
              "      <td>265000</td>\n",
              "      <td>1.9</td>\n",
              "      <td>130</td>\n",
              "      <td>1</td>\n",
              "      <td>0</td>\n",
              "      <td>4</td>\n",
              "      <td>1</td>\n",
              "    </tr>\n",
              "    <tr>\n",
              "      <th>2</th>\n",
              "      <td>55</td>\n",
              "      <td>0</td>\n",
              "      <td>7861</td>\n",
              "      <td>0</td>\n",
              "      <td>38</td>\n",
              "      <td>0</td>\n",
              "      <td>263358.03</td>\n",
              "      <td>1.1</td>\n",
              "      <td>136</td>\n",
              "      <td>1</td>\n",
              "      <td>0</td>\n",
              "      <td>6</td>\n",
              "      <td>1</td>\n",
              "    </tr>\n",
              "    <tr>\n",
              "      <th>3</th>\n",
              "      <td>65</td>\n",
              "      <td>0</td>\n",
              "      <td>146</td>\n",
              "      <td>0</td>\n",
              "      <td>20</td>\n",
              "      <td>0</td>\n",
              "      <td>162000</td>\n",
              "      <td>1.3</td>\n",
              "      <td>129</td>\n",
              "      <td>1</td>\n",
              "      <td>1</td>\n",
              "      <td>7</td>\n",
              "      <td>1</td>\n",
              "    </tr>\n",
              "    <tr>\n",
              "      <th>4</th>\n",
              "      <td>50</td>\n",
              "      <td>1</td>\n",
              "      <td>111</td>\n",
              "      <td>0</td>\n",
              "      <td>20</td>\n",
              "      <td>0</td>\n",
              "      <td>210000</td>\n",
              "      <td>1.9</td>\n",
              "      <td>137</td>\n",
              "      <td>1</td>\n",
              "      <td>0</td>\n",
              "      <td>7</td>\n",
              "      <td>1</td>\n",
              "    </tr>\n",
              "    <tr>\n",
              "      <th>5</th>\n",
              "      <td>65</td>\n",
              "      <td>1</td>\n",
              "      <td>160</td>\n",
              "      <td>1</td>\n",
              "      <td>20</td>\n",
              "      <td>0</td>\n",
              "      <td>327000</td>\n",
              "      <td>2.7</td>\n",
              "      <td>116</td>\n",
              "      <td>0</td>\n",
              "      <td>0</td>\n",
              "      <td>8</td>\n",
              "      <td>1</td>\n",
              "    </tr>\n",
              "  </tbody>\n",
              "</table>\n",
              "</div>"
            ],
            "text/plain": [
              "  age anamia creatinine_phosphokinase diabetes  ... sex smoking time DEATH_EVENT\n",
              "1  75      0                      582        0  ...   1       0    4           1\n",
              "2  55      0                     7861        0  ...   1       0    6           1\n",
              "3  65      0                      146        0  ...   1       1    7           1\n",
              "4  50      1                      111        0  ...   1       0    7           1\n",
              "5  65      1                      160        1  ...   0       0    8           1\n",
              "\n",
              "[5 rows x 13 columns]"
            ]
          },
          "metadata": {
            "tags": []
          },
          "execution_count": 5
        }
      ]
    },
    {
      "cell_type": "code",
      "metadata": {
        "colab": {
          "base_uri": "https://localhost:8080/"
        },
        "id": "dpR6yzOEEOIP",
        "outputId": "f7889c22-368f-45b2-a4a6-b9754583b9df"
      },
      "source": [
        "# age 열의 자료형 변경 (문자열 -> 숫자)\n",
        "df['age'].unique()"
      ],
      "execution_count": 6,
      "outputs": [
        {
          "output_type": "execute_result",
          "data": {
            "text/plain": [
              "array(['75', '55', '65', '50', '90', '60', '80', '62', '45', '49', '82',\n",
              "       '87', '70', '48', '68', '53', '95', '58', '94', '85', '69', '72',\n",
              "       '51', '57', '42', '41', '67', '79', '59', '44', '63', '86', '66',\n",
              "       '43', '46', '61', '81', '52', '64', '40', '60.667', '73', '77',\n",
              "       '78', '54', '47', '56'], dtype=object)"
            ]
          },
          "metadata": {
            "tags": []
          },
          "execution_count": 6
        }
      ]
    },
    {
      "cell_type": "code",
      "metadata": {
        "colab": {
          "base_uri": "https://localhost:8080/"
        },
        "id": "oduwnQwqEPsS",
        "outputId": "67d5e8f6-811e-454d-ef11-6ac21b24ef61"
      },
      "source": [
        "# 60.667를 np.nan으로 변경\n",
        "df['age'].replace('60.667',np.nan,inplace=True)\n",
        "df.info"
      ],
      "execution_count": 7,
      "outputs": [
        {
          "output_type": "execute_result",
          "data": {
            "text/plain": [
              "<bound method DataFrame.info of     age anamia creatinine_phosphokinase diabetes  ... sex smoking time DEATH_EVENT\n",
              "1    75      0                      582        0  ...   1       0    4           1\n",
              "2    55      0                     7861        0  ...   1       0    6           1\n",
              "3    65      0                      146        0  ...   1       1    7           1\n",
              "4    50      1                      111        0  ...   1       0    7           1\n",
              "5    65      1                      160        1  ...   0       0    8           1\n",
              "..   ..    ...                      ...      ...  ...  ..     ...  ...         ...\n",
              "295  62      0                       61        1  ...   1       1  270           0\n",
              "296  55      0                     1820        0  ...   0       0  271           0\n",
              "297  45      0                     2060        1  ...   0       0  278           0\n",
              "298  45      0                     2413        0  ...   1       1  280           0\n",
              "299  50      0                      196        0  ...   1       1  285           0\n",
              "\n",
              "[299 rows x 13 columns]>"
            ]
          },
          "metadata": {
            "tags": []
          },
          "execution_count": 7
        }
      ]
    },
    {
      "cell_type": "code",
      "metadata": {
        "colab": {
          "base_uri": "https://localhost:8080/"
        },
        "id": "172vRNyDEQ2m",
        "outputId": "23693d9f-eb86-4cd8-e195-914b85d37c28"
      },
      "source": [
        "# nan 확인\n",
        "df['age'].unique()"
      ],
      "execution_count": 8,
      "outputs": [
        {
          "output_type": "execute_result",
          "data": {
            "text/plain": [
              "array(['75', '55', '65', '50', '90', '60', '80', '62', '45', '49', '82',\n",
              "       '87', '70', '48', '68', '53', '95', '58', '94', '85', '69', '72',\n",
              "       '51', '57', '42', '41', '67', '79', '59', '44', '63', '86', '66',\n",
              "       '43', '46', '61', '81', '52', '64', '40', nan, '73', '77', '78',\n",
              "       '54', '47', '56'], dtype=object)"
            ]
          },
          "metadata": {
            "tags": []
          },
          "execution_count": 8
        }
      ]
    },
    {
      "cell_type": "code",
      "metadata": {
        "id": "HfyF7QmjEUGX"
      },
      "source": [
        "# 데이터안 nan값 60으로 변경\n",
        "df=df.fillna(60)"
      ],
      "execution_count": 9,
      "outputs": []
    },
    {
      "cell_type": "code",
      "metadata": {
        "colab": {
          "base_uri": "https://localhost:8080/"
        },
        "id": "2X8Y_8l7EVsZ",
        "outputId": "cdebe708-4121-455c-d9ce-4da21f338f8e"
      },
      "source": [
        "# 변경 사항 확인\n",
        "df['age'].unique()"
      ],
      "execution_count": 10,
      "outputs": [
        {
          "output_type": "execute_result",
          "data": {
            "text/plain": [
              "array(['75', '55', '65', '50', '90', '60', '80', '62', '45', '49', '82',\n",
              "       '87', '70', '48', '68', '53', '95', '58', '94', '85', '69', '72',\n",
              "       '51', '57', '42', '41', '67', '79', '59', '44', '63', '86', '66',\n",
              "       '43', '46', '61', '81', '52', '64', '40', 60, '73', '77', '78',\n",
              "       '54', '47', '56'], dtype=object)"
            ]
          },
          "metadata": {
            "tags": []
          },
          "execution_count": 10
        }
      ]
    },
    {
      "cell_type": "code",
      "metadata": {
        "id": "sF0my_4HEXe2"
      },
      "source": [
        "# 열들의 자료형 변경 (문자열 -> 숫자)\n",
        "df['age']=df['age'].astype('int')\n",
        "\n",
        "df['creatinine_phosphokinase']=df['creatinine_phosphokinase'].astype('int')\n",
        "\n",
        "df['ejection_fraction']=df['ejection_fraction'].astype('int')\n",
        "\n",
        "df['platelets']=df['platelets'].astype('float')\n",
        "\n",
        "df['serum_creatinine']=df['serum_creatinine'].astype('float')\n",
        "\n",
        "df['serum_sodium']=df['serum_sodium'].astype('int')\n",
        "\n",
        "df['time']=df['time'].astype('int')\n",
        "\n",
        "df['DEATH_EVENT']=df['DEATH_EVENT'].astype('int')"
      ],
      "execution_count": 11,
      "outputs": []
    },
    {
      "cell_type": "code",
      "metadata": {
        "id": "7d5iM7EzEbr1"
      },
      "source": [
        "# 숫자 형태의 변수 -> 카테고리 형태로 변경\n",
        "categorical_var=['anamia','diabetes','high_blood_pressure','sex','smoking']\n",
        "df[categorical_var] = df[categorical_var].astype('category')"
      ],
      "execution_count": 12,
      "outputs": []
    },
    {
      "cell_type": "markdown",
      "metadata": {
        "id": "aotsL2awEe5A"
      },
      "source": [
        "형변환 완료한 데이터 형식"
      ]
    },
    {
      "cell_type": "code",
      "metadata": {
        "colab": {
          "base_uri": "https://localhost:8080/"
        },
        "id": "aSwdsEn3EdIR",
        "outputId": "17a6c1a3-3afb-43a5-82de-2532068b7e97"
      },
      "source": [
        "df.info()"
      ],
      "execution_count": 13,
      "outputs": [
        {
          "output_type": "stream",
          "text": [
            "<class 'pandas.core.frame.DataFrame'>\n",
            "Int64Index: 299 entries, 1 to 299\n",
            "Data columns (total 13 columns):\n",
            " #   Column                    Non-Null Count  Dtype   \n",
            "---  ------                    --------------  -----   \n",
            " 0   age                       299 non-null    int64   \n",
            " 1   anamia                    299 non-null    category\n",
            " 2   creatinine_phosphokinase  299 non-null    int64   \n",
            " 3   diabetes                  299 non-null    category\n",
            " 4   ejection_fraction         299 non-null    int64   \n",
            " 5   high_blood_pressure       299 non-null    category\n",
            " 6   platelets                 299 non-null    float64 \n",
            " 7   serum_creatinine          299 non-null    float64 \n",
            " 8   serum_sodium              299 non-null    int64   \n",
            " 9   sex                       299 non-null    category\n",
            " 10  smoking                   299 non-null    category\n",
            " 11  time                      299 non-null    int64   \n",
            " 12  DEATH_EVENT               299 non-null    int64   \n",
            "dtypes: category(5), float64(2), int64(6)\n",
            "memory usage: 23.0 KB\n"
          ],
          "name": "stdout"
        }
      ]
    },
    {
      "cell_type": "code",
      "metadata": {
        "colab": {
          "base_uri": "https://localhost:8080/",
          "height": 215
        },
        "id": "vwwB9wurEksm",
        "outputId": "e2fe5072-ab74-4ad5-d85c-d325f0a37c35"
      },
      "source": [
        "df.head()"
      ],
      "execution_count": 14,
      "outputs": [
        {
          "output_type": "execute_result",
          "data": {
            "text/html": [
              "<div>\n",
              "<style scoped>\n",
              "    .dataframe tbody tr th:only-of-type {\n",
              "        vertical-align: middle;\n",
              "    }\n",
              "\n",
              "    .dataframe tbody tr th {\n",
              "        vertical-align: top;\n",
              "    }\n",
              "\n",
              "    .dataframe thead th {\n",
              "        text-align: right;\n",
              "    }\n",
              "</style>\n",
              "<table border=\"1\" class=\"dataframe\">\n",
              "  <thead>\n",
              "    <tr style=\"text-align: right;\">\n",
              "      <th></th>\n",
              "      <th>age</th>\n",
              "      <th>anamia</th>\n",
              "      <th>creatinine_phosphokinase</th>\n",
              "      <th>diabetes</th>\n",
              "      <th>ejection_fraction</th>\n",
              "      <th>high_blood_pressure</th>\n",
              "      <th>platelets</th>\n",
              "      <th>serum_creatinine</th>\n",
              "      <th>serum_sodium</th>\n",
              "      <th>sex</th>\n",
              "      <th>smoking</th>\n",
              "      <th>time</th>\n",
              "      <th>DEATH_EVENT</th>\n",
              "    </tr>\n",
              "  </thead>\n",
              "  <tbody>\n",
              "    <tr>\n",
              "      <th>1</th>\n",
              "      <td>75</td>\n",
              "      <td>0</td>\n",
              "      <td>582</td>\n",
              "      <td>0</td>\n",
              "      <td>20</td>\n",
              "      <td>1</td>\n",
              "      <td>265000.00</td>\n",
              "      <td>1.9</td>\n",
              "      <td>130</td>\n",
              "      <td>1</td>\n",
              "      <td>0</td>\n",
              "      <td>4</td>\n",
              "      <td>1</td>\n",
              "    </tr>\n",
              "    <tr>\n",
              "      <th>2</th>\n",
              "      <td>55</td>\n",
              "      <td>0</td>\n",
              "      <td>7861</td>\n",
              "      <td>0</td>\n",
              "      <td>38</td>\n",
              "      <td>0</td>\n",
              "      <td>263358.03</td>\n",
              "      <td>1.1</td>\n",
              "      <td>136</td>\n",
              "      <td>1</td>\n",
              "      <td>0</td>\n",
              "      <td>6</td>\n",
              "      <td>1</td>\n",
              "    </tr>\n",
              "    <tr>\n",
              "      <th>3</th>\n",
              "      <td>65</td>\n",
              "      <td>0</td>\n",
              "      <td>146</td>\n",
              "      <td>0</td>\n",
              "      <td>20</td>\n",
              "      <td>0</td>\n",
              "      <td>162000.00</td>\n",
              "      <td>1.3</td>\n",
              "      <td>129</td>\n",
              "      <td>1</td>\n",
              "      <td>1</td>\n",
              "      <td>7</td>\n",
              "      <td>1</td>\n",
              "    </tr>\n",
              "    <tr>\n",
              "      <th>4</th>\n",
              "      <td>50</td>\n",
              "      <td>1</td>\n",
              "      <td>111</td>\n",
              "      <td>0</td>\n",
              "      <td>20</td>\n",
              "      <td>0</td>\n",
              "      <td>210000.00</td>\n",
              "      <td>1.9</td>\n",
              "      <td>137</td>\n",
              "      <td>1</td>\n",
              "      <td>0</td>\n",
              "      <td>7</td>\n",
              "      <td>1</td>\n",
              "    </tr>\n",
              "    <tr>\n",
              "      <th>5</th>\n",
              "      <td>65</td>\n",
              "      <td>1</td>\n",
              "      <td>160</td>\n",
              "      <td>1</td>\n",
              "      <td>20</td>\n",
              "      <td>0</td>\n",
              "      <td>327000.00</td>\n",
              "      <td>2.7</td>\n",
              "      <td>116</td>\n",
              "      <td>0</td>\n",
              "      <td>0</td>\n",
              "      <td>8</td>\n",
              "      <td>1</td>\n",
              "    </tr>\n",
              "  </tbody>\n",
              "</table>\n",
              "</div>"
            ],
            "text/plain": [
              "   age anamia  creatinine_phosphokinase diabetes  ...  sex smoking  time  DEATH_EVENT\n",
              "1   75      0                       582        0  ...    1       0     4            1\n",
              "2   55      0                      7861        0  ...    1       0     6            1\n",
              "3   65      0                       146        0  ...    1       1     7            1\n",
              "4   50      1                       111        0  ...    1       0     7            1\n",
              "5   65      1                       160        1  ...    0       0     8            1\n",
              "\n",
              "[5 rows x 13 columns]"
            ]
          },
          "metadata": {
            "tags": []
          },
          "execution_count": 14
        }
      ]
    },
    {
      "cell_type": "markdown",
      "metadata": {
        "id": "8Bhr8_rjGVbO"
      },
      "source": [
        "데이터 분리하기"
      ]
    },
    {
      "cell_type": "code",
      "metadata": {
        "id": "KRJf43NxGXM_"
      },
      "source": [
        "# X(시험지), y(정답지) 분리하기\n",
        "X = df.iloc[:,:-1]\n",
        "y = df['DEATH_EVENT']"
      ],
      "execution_count": 15,
      "outputs": []
    },
    {
      "cell_type": "code",
      "metadata": {
        "id": "N-HRTirBEmBb"
      },
      "source": [
        "# 원-핫 인코딩 처리\n",
        "# 컬럼 -> 원-핫 인코딩 처리\n",
        "temp = pd.get_dummies(X[categorical_var], drop_first=True)"
      ],
      "execution_count": 16,
      "outputs": []
    },
    {
      "cell_type": "code",
      "metadata": {
        "id": "Q0qG5oxCGSeC"
      },
      "source": [
        "# 기존 데이터랑 합치기\n",
        "X_modified = pd.concat([X,temp], axis=1)"
      ],
      "execution_count": 17,
      "outputs": []
    },
    {
      "cell_type": "code",
      "metadata": {
        "id": "MdE8gaBaGact"
      },
      "source": [
        "# 기존 컬럼 삭제\n",
        "X_modified.drop(categorical_var, axis=1, inplace=True)"
      ],
      "execution_count": 18,
      "outputs": []
    },
    {
      "cell_type": "code",
      "metadata": {
        "colab": {
          "base_uri": "https://localhost:8080/",
          "height": 215
        },
        "id": "T-wKcQehGcUx",
        "outputId": "7de54060-b8cf-4eba-f304-6dca433d6c13"
      },
      "source": [
        "X_modified.head()"
      ],
      "execution_count": 19,
      "outputs": [
        {
          "output_type": "execute_result",
          "data": {
            "text/html": [
              "<div>\n",
              "<style scoped>\n",
              "    .dataframe tbody tr th:only-of-type {\n",
              "        vertical-align: middle;\n",
              "    }\n",
              "\n",
              "    .dataframe tbody tr th {\n",
              "        vertical-align: top;\n",
              "    }\n",
              "\n",
              "    .dataframe thead th {\n",
              "        text-align: right;\n",
              "    }\n",
              "</style>\n",
              "<table border=\"1\" class=\"dataframe\">\n",
              "  <thead>\n",
              "    <tr style=\"text-align: right;\">\n",
              "      <th></th>\n",
              "      <th>age</th>\n",
              "      <th>creatinine_phosphokinase</th>\n",
              "      <th>ejection_fraction</th>\n",
              "      <th>platelets</th>\n",
              "      <th>serum_creatinine</th>\n",
              "      <th>serum_sodium</th>\n",
              "      <th>time</th>\n",
              "      <th>anamia_1</th>\n",
              "      <th>diabetes_1</th>\n",
              "      <th>high_blood_pressure_1</th>\n",
              "      <th>sex_1</th>\n",
              "      <th>smoking_1</th>\n",
              "    </tr>\n",
              "  </thead>\n",
              "  <tbody>\n",
              "    <tr>\n",
              "      <th>1</th>\n",
              "      <td>75</td>\n",
              "      <td>582</td>\n",
              "      <td>20</td>\n",
              "      <td>265000.00</td>\n",
              "      <td>1.9</td>\n",
              "      <td>130</td>\n",
              "      <td>4</td>\n",
              "      <td>0</td>\n",
              "      <td>0</td>\n",
              "      <td>1</td>\n",
              "      <td>1</td>\n",
              "      <td>0</td>\n",
              "    </tr>\n",
              "    <tr>\n",
              "      <th>2</th>\n",
              "      <td>55</td>\n",
              "      <td>7861</td>\n",
              "      <td>38</td>\n",
              "      <td>263358.03</td>\n",
              "      <td>1.1</td>\n",
              "      <td>136</td>\n",
              "      <td>6</td>\n",
              "      <td>0</td>\n",
              "      <td>0</td>\n",
              "      <td>0</td>\n",
              "      <td>1</td>\n",
              "      <td>0</td>\n",
              "    </tr>\n",
              "    <tr>\n",
              "      <th>3</th>\n",
              "      <td>65</td>\n",
              "      <td>146</td>\n",
              "      <td>20</td>\n",
              "      <td>162000.00</td>\n",
              "      <td>1.3</td>\n",
              "      <td>129</td>\n",
              "      <td>7</td>\n",
              "      <td>0</td>\n",
              "      <td>0</td>\n",
              "      <td>0</td>\n",
              "      <td>1</td>\n",
              "      <td>1</td>\n",
              "    </tr>\n",
              "    <tr>\n",
              "      <th>4</th>\n",
              "      <td>50</td>\n",
              "      <td>111</td>\n",
              "      <td>20</td>\n",
              "      <td>210000.00</td>\n",
              "      <td>1.9</td>\n",
              "      <td>137</td>\n",
              "      <td>7</td>\n",
              "      <td>1</td>\n",
              "      <td>0</td>\n",
              "      <td>0</td>\n",
              "      <td>1</td>\n",
              "      <td>0</td>\n",
              "    </tr>\n",
              "    <tr>\n",
              "      <th>5</th>\n",
              "      <td>65</td>\n",
              "      <td>160</td>\n",
              "      <td>20</td>\n",
              "      <td>327000.00</td>\n",
              "      <td>2.7</td>\n",
              "      <td>116</td>\n",
              "      <td>8</td>\n",
              "      <td>1</td>\n",
              "      <td>1</td>\n",
              "      <td>0</td>\n",
              "      <td>0</td>\n",
              "      <td>0</td>\n",
              "    </tr>\n",
              "  </tbody>\n",
              "</table>\n",
              "</div>"
            ],
            "text/plain": [
              "   age  creatinine_phosphokinase  ...  sex_1  smoking_1\n",
              "1   75                       582  ...      1          0\n",
              "2   55                      7861  ...      1          0\n",
              "3   65                       146  ...      1          1\n",
              "4   50                       111  ...      1          0\n",
              "5   65                       160  ...      0          0\n",
              "\n",
              "[5 rows x 12 columns]"
            ]
          },
          "metadata": {
            "tags": []
          },
          "execution_count": 19
        }
      ]
    },
    {
      "cell_type": "markdown",
      "metadata": {
        "id": "1Knu5AjWGfJo"
      },
      "source": [
        "훈련용, 테스트 데이터 분리하기"
      ]
    },
    {
      "cell_type": "code",
      "metadata": {
        "id": "EMww1AZMGeMp"
      },
      "source": [
        "X_train, X_test, y_train, y_test = train_test_split(X_modified,y,\n",
        "                                                    train_size=0.7, # test_size\n",
        "                                                    random_state=7)"
      ],
      "execution_count": 20,
      "outputs": []
    },
    {
      "cell_type": "markdown",
      "metadata": {
        "id": "NYg8ds2FG0tj"
      },
      "source": [
        "NN 분류 모형 - sklearn 사용"
      ]
    },
    {
      "cell_type": "code",
      "metadata": {
        "id": "SBc6-Gamcmhn"
      },
      "source": [
        "# sklearn 라이브러리에서 NN 분류 모형 가져오기\n",
        "from sklearn.neural_network import MLPClassifier\n",
        "\n",
        "# 훈련 세트 각 특성의 평균을 계산\n",
        "mean_on_train = X_train.mean(axis=0)\n",
        "# 훈련 세트 각 특성의 표준 편차를 계산\n",
        "std_on_train = X_train.std(axis=0)\n",
        "\n",
        "# 데이터에서 평균을 빼고 표준 편차로 나누면\n",
        "# 평균 0, 표준 편차 1인 데이터로 변환\n",
        "X_train_scaled = (X_train - mean_on_train) / std_on_train \n",
        "# (훈련 데이터의 평균과 표준 편차를 이용해) 같은 변환을 테스트 세트에도 합니다.\n",
        "X_test_scaled = (X_test - mean_on_train) / std_on_train \n",
        "\n",
        "nn = MLPClassifier(max_iter=1000, alpha=1, hidden_layer_sizes =(5,2), random_state=7)"
      ],
      "execution_count": 21,
      "outputs": []
    },
    {
      "cell_type": "code",
      "metadata": {
        "id": "34CvJK1jcrwL",
        "colab": {
          "base_uri": "https://localhost:8080/"
        },
        "outputId": "16d0289f-2e5e-4921-c6d1-aa1a82c2aa81"
      },
      "source": [
        "# 훈련 데이터를 사용하여 모형 학습\n",
        "nn.fit(X_train, y_train)"
      ],
      "execution_count": 22,
      "outputs": [
        {
          "output_type": "execute_result",
          "data": {
            "text/plain": [
              "MLPClassifier(activation='relu', alpha=1, batch_size='auto', beta_1=0.9,\n",
              "              beta_2=0.999, early_stopping=False, epsilon=1e-08,\n",
              "              hidden_layer_sizes=(5, 2), learning_rate='constant',\n",
              "              learning_rate_init=0.001, max_fun=15000, max_iter=1000,\n",
              "              momentum=0.9, n_iter_no_change=10, nesterovs_momentum=True,\n",
              "              power_t=0.5, random_state=7, shuffle=True, solver='adam',\n",
              "              tol=0.0001, validation_fraction=0.1, verbose=False,\n",
              "              warm_start=False)"
            ]
          },
          "metadata": {
            "tags": []
          },
          "execution_count": 22
        }
      ]
    },
    {
      "cell_type": "code",
      "metadata": {
        "id": "x6-VG8BaR054",
        "colab": {
          "base_uri": "https://localhost:8080/"
        },
        "outputId": "4679ee19-89c4-4607-b012-0a1157781e13"
      },
      "source": [
        "# weights 확인\n",
        "nn.coefs_"
      ],
      "execution_count": 23,
      "outputs": [
        {
          "output_type": "execute_result",
          "data": {
            "text/plain": [
              "[array([[-6.13254800e-01,  1.31805988e-01, -3.80700621e-07,\n",
              "          3.84114133e-01,  3.47150307e-01],\n",
              "        [-6.25476550e-02, -6.09893074e-12, -2.90882072e-01,\n",
              "         -1.59329773e-01,  1.53686048e-11],\n",
              "        [ 1.01279886e-01,  1.56208712e-01, -7.01292903e-03,\n",
              "         -3.92515310e-01, -6.72434981e-02],\n",
              "        [ 3.73624271e-01, -1.38595561e-01, -2.27039739e-08,\n",
              "          6.34145624e-01, -3.43882498e-01],\n",
              "        [ 4.35886854e-03,  3.15729131e-01, -1.21560409e-01,\n",
              "          1.56739171e-01,  2.69937406e-01],\n",
              "        [-5.46839694e-01, -1.53386379e-10,  1.02677272e-01,\n",
              "          3.20770588e-01, -9.36946237e-10],\n",
              "        [-4.55874734e-01, -3.06452609e-10, -1.01949480e-02,\n",
              "          8.68891491e-02, -1.30200579e-02],\n",
              "        [ 2.44088353e-01,  1.20517043e-01, -4.59350537e-02,\n",
              "          1.09227032e-01, -7.79634567e-02],\n",
              "        [-1.10181525e-01, -1.96135798e-02,  2.57655178e-02,\n",
              "         -2.59391318e-02, -2.22467758e-09],\n",
              "        [ 1.15706049e-01, -6.49398203e-04,  2.66938614e-01,\n",
              "         -1.89507921e-01,  9.38240304e-02],\n",
              "        [-1.61188451e-01, -7.71741677e-05,  1.31450182e-02,\n",
              "          9.37133996e-02, -5.16178780e-04],\n",
              "        [-4.54455164e-01, -2.68395314e-01,  6.51159810e-02,\n",
              "          5.33395750e-02,  5.40141579e-02]]),\n",
              " array([[-2.73995881e-01,  7.50414635e-01],\n",
              "        [ 5.95072747e-01,  4.21119898e-01],\n",
              "        [ 1.26400342e-08,  4.08773767e-01],\n",
              "        [-4.57762987e-01, -4.74330683e-01],\n",
              "        [ 4.43112130e-07,  2.34418164e-01]]),\n",
              " array([[-0.22957328],\n",
              "        [-0.41690218]])]"
            ]
          },
          "metadata": {
            "tags": []
          },
          "execution_count": 23
        }
      ]
    },
    {
      "cell_type": "code",
      "metadata": {
        "colab": {
          "base_uri": "https://localhost:8080/"
        },
        "id": "InoIitQaadO2",
        "outputId": "93ffa75b-c9f8-4360-c68e-68da642536d5"
      },
      "source": [
        "# layer shape 확인\n",
        "[coef.shape for coef in  nn.coefs_]"
      ],
      "execution_count": 24,
      "outputs": [
        {
          "output_type": "execute_result",
          "data": {
            "text/plain": [
              "[(12, 5), (5, 2), (2, 1)]"
            ]
          },
          "metadata": {
            "tags": []
          },
          "execution_count": 24
        }
      ]
    },
    {
      "cell_type": "markdown",
      "metadata": {
        "id": "Lv6I6eNPG6LF"
      },
      "source": [
        "모델 성능 평가"
      ]
    },
    {
      "cell_type": "code",
      "metadata": {
        "colab": {
          "base_uri": "https://localhost:8080/"
        },
        "id": "l368KtGzc6sZ",
        "outputId": "e8d7e3ac-9169-471a-e98c-8a149b8f8219"
      },
      "source": [
        "# NN 모델 성능 평가\n",
        "from sklearn import metrics\n",
        "\n",
        "print('테스트 세트 정확도: {:.2f}%'.format(nn.score(X_test, y_test)*100))"
      ],
      "execution_count": 25,
      "outputs": [
        {
          "output_type": "stream",
          "text": [
            "테스트 세트 정확도: 72.22%\n"
          ],
          "name": "stdout"
        }
      ]
    }
  ]
}
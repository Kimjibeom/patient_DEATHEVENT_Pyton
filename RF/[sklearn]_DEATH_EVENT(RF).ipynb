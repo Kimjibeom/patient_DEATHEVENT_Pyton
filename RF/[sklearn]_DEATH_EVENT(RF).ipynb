{
  "nbformat": 4,
  "nbformat_minor": 0,
  "metadata": {
    "colab": {
      "name": "[sklearn] DEATH_EVENT(RF)",
      "provenance": []
    },
    "kernelspec": {
      "name": "python3",
      "display_name": "Python 3"
    },
    "language_info": {
      "name": "python"
    }
  },
  "cells": [
    {
      "cell_type": "markdown",
      "metadata": {
        "id": "GYe74eD-DcwK"
      },
      "source": [
        "# 문제 정의\n",
        "\n",
        "제공 받은 Dataset은 age, anaemia, high blood pressure, diabetes 등의 병원데이터라고 추측되는 데이터이고 DEATH_EVENT는 해당 환자의 사후관리 기간 중 사망한 경우를 나타냅니다."
      ]
    },
    {
      "cell_type": "markdown",
      "metadata": {
        "id": "H_36Tn6aDxh1"
      },
      "source": [
        "라이브러리 임포트"
      ]
    },
    {
      "cell_type": "code",
      "metadata": {
        "id": "bqt3IQ5nDQ35"
      },
      "source": [
        "# Libraies for reading and handling the data\n",
        "import numpy as np\n",
        "import pandas as pd\n",
        "import re\n",
        "\n",
        "# Libraries for data visualization\n",
        "import matplotlib.pyplot as plt\n",
        "import seaborn as sns\n",
        "\n",
        "# Libraries for data preprocessing\n",
        "from sklearn.model_selection import train_test_split\n",
        "from sklearn.preprocessing import StandardScaler, OrdinalEncoder, OneHotEncoder\n",
        "from sklearn.compose import ColumnTransformer\n",
        "from sklearn.base import BaseEstimator, TransformerMixin\n",
        "\n",
        "# Libraries for creating ML model\n",
        "from sklearn.linear_model import LogisticRegression\n",
        "from sklearn.tree import DecisionTreeClassifier\n",
        "from sklearn.ensemble import RandomForestClassifier\n",
        "from sklearn.ensemble import GradientBoostingClassifier\n",
        "\n",
        "# Library for Analysing the ML model\n",
        "from sklearn import metrics"
      ],
      "execution_count": 1,
      "outputs": []
    },
    {
      "cell_type": "code",
      "metadata": {
        "colab": {
          "base_uri": "https://localhost:8080/"
        },
        "id": "7m671N9oSXHK",
        "outputId": "840b8126-7415-48e2-fe13-e51511f59207"
      },
      "source": [
        "import matplotlib as mpl\n",
        "import matplotlib.pyplot as plt\n",
        " \n",
        "%config InlineBackend.figure_format = 'retina'\n",
        " \n",
        "!apt -qq -y install fonts-nanum\n",
        " \n",
        "import matplotlib.font_manager as fm\n",
        "\n",
        "fontpath = '/usr/share/fonts/truetype/nanum/NanumBarunGothic.ttf'\n",
        "font = fm.FontProperties(fname=fontpath, size=9)\n",
        "plt.rc('font', family='NanumBarunGothic') \n",
        "mpl.font_manager._rebuild()"
      ],
      "execution_count": 2,
      "outputs": [
        {
          "output_type": "stream",
          "text": [
            "fonts-nanum is already the newest version (20170925-1).\n",
            "0 upgraded, 0 newly installed, 0 to remove and 39 not upgraded.\n"
          ],
          "name": "stdout"
        }
      ]
    },
    {
      "cell_type": "markdown",
      "metadata": {
        "id": "NOhb_8PeD1To"
      },
      "source": [
        "데이터 준비하기"
      ]
    },
    {
      "cell_type": "code",
      "metadata": {
        "id": "OUMXYE0hD0m8"
      },
      "source": [
        "# csv 파일을 데이터프레임으로 변환\n",
        "df = pd.read_csv('data.csv', header=None)"
      ],
      "execution_count": 3,
      "outputs": []
    },
    {
      "cell_type": "code",
      "metadata": {
        "id": "lJac_c6XD5Rv"
      },
      "source": [
        "# 열 이름 지정\n",
        "df.columns = ['age','anamia','creatinine_phosphokinase','diabetes','ejection_fraction',\n",
        "              'high_blood_pressure','platelets','serum_creatinine','serum_sodium',\n",
        "              'sex','smoking','time','DEATH_EVENT']"
      ],
      "execution_count": 4,
      "outputs": []
    },
    {
      "cell_type": "markdown",
      "metadata": {
        "id": "VRvSrqrfEKB9"
      },
      "source": [
        "데이터 탐색 및 데이터 전처리"
      ]
    },
    {
      "cell_type": "code",
      "metadata": {
        "colab": {
          "base_uri": "https://localhost:8080/",
          "height": 215
        },
        "id": "1K6CgNRsD-H0",
        "outputId": "f278eee3-0075-44e8-efac-6d145f7cddf6"
      },
      "source": [
        "# column 추가로 중복된 첫 번째행 삭제\n",
        "df= df.drop(0,0)\n",
        "df.head()"
      ],
      "execution_count": 5,
      "outputs": [
        {
          "output_type": "execute_result",
          "data": {
            "text/html": [
              "<div>\n",
              "<style scoped>\n",
              "    .dataframe tbody tr th:only-of-type {\n",
              "        vertical-align: middle;\n",
              "    }\n",
              "\n",
              "    .dataframe tbody tr th {\n",
              "        vertical-align: top;\n",
              "    }\n",
              "\n",
              "    .dataframe thead th {\n",
              "        text-align: right;\n",
              "    }\n",
              "</style>\n",
              "<table border=\"1\" class=\"dataframe\">\n",
              "  <thead>\n",
              "    <tr style=\"text-align: right;\">\n",
              "      <th></th>\n",
              "      <th>age</th>\n",
              "      <th>anamia</th>\n",
              "      <th>creatinine_phosphokinase</th>\n",
              "      <th>diabetes</th>\n",
              "      <th>ejection_fraction</th>\n",
              "      <th>high_blood_pressure</th>\n",
              "      <th>platelets</th>\n",
              "      <th>serum_creatinine</th>\n",
              "      <th>serum_sodium</th>\n",
              "      <th>sex</th>\n",
              "      <th>smoking</th>\n",
              "      <th>time</th>\n",
              "      <th>DEATH_EVENT</th>\n",
              "    </tr>\n",
              "  </thead>\n",
              "  <tbody>\n",
              "    <tr>\n",
              "      <th>1</th>\n",
              "      <td>75</td>\n",
              "      <td>0</td>\n",
              "      <td>582</td>\n",
              "      <td>0</td>\n",
              "      <td>20</td>\n",
              "      <td>1</td>\n",
              "      <td>265000</td>\n",
              "      <td>1.9</td>\n",
              "      <td>130</td>\n",
              "      <td>1</td>\n",
              "      <td>0</td>\n",
              "      <td>4</td>\n",
              "      <td>1</td>\n",
              "    </tr>\n",
              "    <tr>\n",
              "      <th>2</th>\n",
              "      <td>55</td>\n",
              "      <td>0</td>\n",
              "      <td>7861</td>\n",
              "      <td>0</td>\n",
              "      <td>38</td>\n",
              "      <td>0</td>\n",
              "      <td>263358.03</td>\n",
              "      <td>1.1</td>\n",
              "      <td>136</td>\n",
              "      <td>1</td>\n",
              "      <td>0</td>\n",
              "      <td>6</td>\n",
              "      <td>1</td>\n",
              "    </tr>\n",
              "    <tr>\n",
              "      <th>3</th>\n",
              "      <td>65</td>\n",
              "      <td>0</td>\n",
              "      <td>146</td>\n",
              "      <td>0</td>\n",
              "      <td>20</td>\n",
              "      <td>0</td>\n",
              "      <td>162000</td>\n",
              "      <td>1.3</td>\n",
              "      <td>129</td>\n",
              "      <td>1</td>\n",
              "      <td>1</td>\n",
              "      <td>7</td>\n",
              "      <td>1</td>\n",
              "    </tr>\n",
              "    <tr>\n",
              "      <th>4</th>\n",
              "      <td>50</td>\n",
              "      <td>1</td>\n",
              "      <td>111</td>\n",
              "      <td>0</td>\n",
              "      <td>20</td>\n",
              "      <td>0</td>\n",
              "      <td>210000</td>\n",
              "      <td>1.9</td>\n",
              "      <td>137</td>\n",
              "      <td>1</td>\n",
              "      <td>0</td>\n",
              "      <td>7</td>\n",
              "      <td>1</td>\n",
              "    </tr>\n",
              "    <tr>\n",
              "      <th>5</th>\n",
              "      <td>65</td>\n",
              "      <td>1</td>\n",
              "      <td>160</td>\n",
              "      <td>1</td>\n",
              "      <td>20</td>\n",
              "      <td>0</td>\n",
              "      <td>327000</td>\n",
              "      <td>2.7</td>\n",
              "      <td>116</td>\n",
              "      <td>0</td>\n",
              "      <td>0</td>\n",
              "      <td>8</td>\n",
              "      <td>1</td>\n",
              "    </tr>\n",
              "  </tbody>\n",
              "</table>\n",
              "</div>"
            ],
            "text/plain": [
              "  age anamia creatinine_phosphokinase diabetes  ... sex smoking time DEATH_EVENT\n",
              "1  75      0                      582        0  ...   1       0    4           1\n",
              "2  55      0                     7861        0  ...   1       0    6           1\n",
              "3  65      0                      146        0  ...   1       1    7           1\n",
              "4  50      1                      111        0  ...   1       0    7           1\n",
              "5  65      1                      160        1  ...   0       0    8           1\n",
              "\n",
              "[5 rows x 13 columns]"
            ]
          },
          "metadata": {
            "tags": []
          },
          "execution_count": 5
        }
      ]
    },
    {
      "cell_type": "code",
      "metadata": {
        "colab": {
          "base_uri": "https://localhost:8080/"
        },
        "id": "dpR6yzOEEOIP",
        "outputId": "46c474a2-6a0f-4927-9fd1-3d4cbff87c44"
      },
      "source": [
        "# age 열의 자료형 변경 (문자열 -> 숫자)\n",
        "df['age'].unique()"
      ],
      "execution_count": 6,
      "outputs": [
        {
          "output_type": "execute_result",
          "data": {
            "text/plain": [
              "array(['75', '55', '65', '50', '90', '60', '80', '62', '45', '49', '82',\n",
              "       '87', '70', '48', '68', '53', '95', '58', '94', '85', '69', '72',\n",
              "       '51', '57', '42', '41', '67', '79', '59', '44', '63', '86', '66',\n",
              "       '43', '46', '61', '81', '52', '64', '40', '60.667', '73', '77',\n",
              "       '78', '54', '47', '56'], dtype=object)"
            ]
          },
          "metadata": {
            "tags": []
          },
          "execution_count": 6
        }
      ]
    },
    {
      "cell_type": "code",
      "metadata": {
        "colab": {
          "base_uri": "https://localhost:8080/"
        },
        "id": "oduwnQwqEPsS",
        "outputId": "43addc65-867b-4c64-a93c-d576b2505038"
      },
      "source": [
        "# 60.667를 np.nan으로 변경\n",
        "df['age'].replace('60.667',np.nan,inplace=True)\n",
        "df.info"
      ],
      "execution_count": 7,
      "outputs": [
        {
          "output_type": "execute_result",
          "data": {
            "text/plain": [
              "<bound method DataFrame.info of     age anamia creatinine_phosphokinase diabetes  ... sex smoking time DEATH_EVENT\n",
              "1    75      0                      582        0  ...   1       0    4           1\n",
              "2    55      0                     7861        0  ...   1       0    6           1\n",
              "3    65      0                      146        0  ...   1       1    7           1\n",
              "4    50      1                      111        0  ...   1       0    7           1\n",
              "5    65      1                      160        1  ...   0       0    8           1\n",
              "..   ..    ...                      ...      ...  ...  ..     ...  ...         ...\n",
              "295  62      0                       61        1  ...   1       1  270           0\n",
              "296  55      0                     1820        0  ...   0       0  271           0\n",
              "297  45      0                     2060        1  ...   0       0  278           0\n",
              "298  45      0                     2413        0  ...   1       1  280           0\n",
              "299  50      0                      196        0  ...   1       1  285           0\n",
              "\n",
              "[299 rows x 13 columns]>"
            ]
          },
          "metadata": {
            "tags": []
          },
          "execution_count": 7
        }
      ]
    },
    {
      "cell_type": "code",
      "metadata": {
        "colab": {
          "base_uri": "https://localhost:8080/"
        },
        "id": "172vRNyDEQ2m",
        "outputId": "bf9ce5ae-b493-4d5b-dfc0-a31a9d85ac8b"
      },
      "source": [
        "# nan 확인\n",
        "df['age'].unique()"
      ],
      "execution_count": 8,
      "outputs": [
        {
          "output_type": "execute_result",
          "data": {
            "text/plain": [
              "array(['75', '55', '65', '50', '90', '60', '80', '62', '45', '49', '82',\n",
              "       '87', '70', '48', '68', '53', '95', '58', '94', '85', '69', '72',\n",
              "       '51', '57', '42', '41', '67', '79', '59', '44', '63', '86', '66',\n",
              "       '43', '46', '61', '81', '52', '64', '40', nan, '73', '77', '78',\n",
              "       '54', '47', '56'], dtype=object)"
            ]
          },
          "metadata": {
            "tags": []
          },
          "execution_count": 8
        }
      ]
    },
    {
      "cell_type": "code",
      "metadata": {
        "id": "HfyF7QmjEUGX"
      },
      "source": [
        "# 데이터안 nan값 60으로 변경\n",
        "df=df.fillna(60)"
      ],
      "execution_count": 9,
      "outputs": []
    },
    {
      "cell_type": "code",
      "metadata": {
        "colab": {
          "base_uri": "https://localhost:8080/"
        },
        "id": "2X8Y_8l7EVsZ",
        "outputId": "5fbc1a00-02e8-481d-bc78-483b9a6754a6"
      },
      "source": [
        "# 변경 사항 확인\n",
        "df['age'].unique()"
      ],
      "execution_count": 10,
      "outputs": [
        {
          "output_type": "execute_result",
          "data": {
            "text/plain": [
              "array(['75', '55', '65', '50', '90', '60', '80', '62', '45', '49', '82',\n",
              "       '87', '70', '48', '68', '53', '95', '58', '94', '85', '69', '72',\n",
              "       '51', '57', '42', '41', '67', '79', '59', '44', '63', '86', '66',\n",
              "       '43', '46', '61', '81', '52', '64', '40', 60, '73', '77', '78',\n",
              "       '54', '47', '56'], dtype=object)"
            ]
          },
          "metadata": {
            "tags": []
          },
          "execution_count": 10
        }
      ]
    },
    {
      "cell_type": "code",
      "metadata": {
        "id": "sF0my_4HEXe2"
      },
      "source": [
        "# 열들의 자료형 변경 (문자열 -> 숫자)\n",
        "df['age']=df['age'].astype('int')\n",
        "\n",
        "df['creatinine_phosphokinase']=df['creatinine_phosphokinase'].astype('int')\n",
        "\n",
        "df['ejection_fraction']=df['ejection_fraction'].astype('int')\n",
        "\n",
        "df['platelets']=df['platelets'].astype('float')\n",
        "\n",
        "df['serum_creatinine']=df['serum_creatinine'].astype('float')\n",
        "\n",
        "df['serum_sodium']=df['serum_sodium'].astype('int')\n",
        "\n",
        "df['time']=df['time'].astype('int')\n",
        "\n",
        "df['DEATH_EVENT']=df['DEATH_EVENT'].astype('int')"
      ],
      "execution_count": 11,
      "outputs": []
    },
    {
      "cell_type": "code",
      "metadata": {
        "id": "7d5iM7EzEbr1"
      },
      "source": [
        "# 숫자 형태의 변수 -> 카테고리 형태로 변경\n",
        "categorical_var=['anamia','diabetes','high_blood_pressure','sex','smoking']\n",
        "df[categorical_var] = df[categorical_var].astype('category')"
      ],
      "execution_count": 12,
      "outputs": []
    },
    {
      "cell_type": "markdown",
      "metadata": {
        "id": "aotsL2awEe5A"
      },
      "source": [
        "형변환 완료한 데이터 형식"
      ]
    },
    {
      "cell_type": "code",
      "metadata": {
        "colab": {
          "base_uri": "https://localhost:8080/"
        },
        "id": "aSwdsEn3EdIR",
        "outputId": "62a9cedc-9c04-4985-c4de-aa169e703960"
      },
      "source": [
        "df.info()"
      ],
      "execution_count": 13,
      "outputs": [
        {
          "output_type": "stream",
          "text": [
            "<class 'pandas.core.frame.DataFrame'>\n",
            "Int64Index: 299 entries, 1 to 299\n",
            "Data columns (total 13 columns):\n",
            " #   Column                    Non-Null Count  Dtype   \n",
            "---  ------                    --------------  -----   \n",
            " 0   age                       299 non-null    int64   \n",
            " 1   anamia                    299 non-null    category\n",
            " 2   creatinine_phosphokinase  299 non-null    int64   \n",
            " 3   diabetes                  299 non-null    category\n",
            " 4   ejection_fraction         299 non-null    int64   \n",
            " 5   high_blood_pressure       299 non-null    category\n",
            " 6   platelets                 299 non-null    float64 \n",
            " 7   serum_creatinine          299 non-null    float64 \n",
            " 8   serum_sodium              299 non-null    int64   \n",
            " 9   sex                       299 non-null    category\n",
            " 10  smoking                   299 non-null    category\n",
            " 11  time                      299 non-null    int64   \n",
            " 12  DEATH_EVENT               299 non-null    int64   \n",
            "dtypes: category(5), float64(2), int64(6)\n",
            "memory usage: 23.0 KB\n"
          ],
          "name": "stdout"
        }
      ]
    },
    {
      "cell_type": "code",
      "metadata": {
        "colab": {
          "base_uri": "https://localhost:8080/",
          "height": 215
        },
        "id": "vwwB9wurEksm",
        "outputId": "df5e59dc-69c3-4943-e420-4352d59cee2a"
      },
      "source": [
        "df.head()"
      ],
      "execution_count": 14,
      "outputs": [
        {
          "output_type": "execute_result",
          "data": {
            "text/html": [
              "<div>\n",
              "<style scoped>\n",
              "    .dataframe tbody tr th:only-of-type {\n",
              "        vertical-align: middle;\n",
              "    }\n",
              "\n",
              "    .dataframe tbody tr th {\n",
              "        vertical-align: top;\n",
              "    }\n",
              "\n",
              "    .dataframe thead th {\n",
              "        text-align: right;\n",
              "    }\n",
              "</style>\n",
              "<table border=\"1\" class=\"dataframe\">\n",
              "  <thead>\n",
              "    <tr style=\"text-align: right;\">\n",
              "      <th></th>\n",
              "      <th>age</th>\n",
              "      <th>anamia</th>\n",
              "      <th>creatinine_phosphokinase</th>\n",
              "      <th>diabetes</th>\n",
              "      <th>ejection_fraction</th>\n",
              "      <th>high_blood_pressure</th>\n",
              "      <th>platelets</th>\n",
              "      <th>serum_creatinine</th>\n",
              "      <th>serum_sodium</th>\n",
              "      <th>sex</th>\n",
              "      <th>smoking</th>\n",
              "      <th>time</th>\n",
              "      <th>DEATH_EVENT</th>\n",
              "    </tr>\n",
              "  </thead>\n",
              "  <tbody>\n",
              "    <tr>\n",
              "      <th>1</th>\n",
              "      <td>75</td>\n",
              "      <td>0</td>\n",
              "      <td>582</td>\n",
              "      <td>0</td>\n",
              "      <td>20</td>\n",
              "      <td>1</td>\n",
              "      <td>265000.00</td>\n",
              "      <td>1.9</td>\n",
              "      <td>130</td>\n",
              "      <td>1</td>\n",
              "      <td>0</td>\n",
              "      <td>4</td>\n",
              "      <td>1</td>\n",
              "    </tr>\n",
              "    <tr>\n",
              "      <th>2</th>\n",
              "      <td>55</td>\n",
              "      <td>0</td>\n",
              "      <td>7861</td>\n",
              "      <td>0</td>\n",
              "      <td>38</td>\n",
              "      <td>0</td>\n",
              "      <td>263358.03</td>\n",
              "      <td>1.1</td>\n",
              "      <td>136</td>\n",
              "      <td>1</td>\n",
              "      <td>0</td>\n",
              "      <td>6</td>\n",
              "      <td>1</td>\n",
              "    </tr>\n",
              "    <tr>\n",
              "      <th>3</th>\n",
              "      <td>65</td>\n",
              "      <td>0</td>\n",
              "      <td>146</td>\n",
              "      <td>0</td>\n",
              "      <td>20</td>\n",
              "      <td>0</td>\n",
              "      <td>162000.00</td>\n",
              "      <td>1.3</td>\n",
              "      <td>129</td>\n",
              "      <td>1</td>\n",
              "      <td>1</td>\n",
              "      <td>7</td>\n",
              "      <td>1</td>\n",
              "    </tr>\n",
              "    <tr>\n",
              "      <th>4</th>\n",
              "      <td>50</td>\n",
              "      <td>1</td>\n",
              "      <td>111</td>\n",
              "      <td>0</td>\n",
              "      <td>20</td>\n",
              "      <td>0</td>\n",
              "      <td>210000.00</td>\n",
              "      <td>1.9</td>\n",
              "      <td>137</td>\n",
              "      <td>1</td>\n",
              "      <td>0</td>\n",
              "      <td>7</td>\n",
              "      <td>1</td>\n",
              "    </tr>\n",
              "    <tr>\n",
              "      <th>5</th>\n",
              "      <td>65</td>\n",
              "      <td>1</td>\n",
              "      <td>160</td>\n",
              "      <td>1</td>\n",
              "      <td>20</td>\n",
              "      <td>0</td>\n",
              "      <td>327000.00</td>\n",
              "      <td>2.7</td>\n",
              "      <td>116</td>\n",
              "      <td>0</td>\n",
              "      <td>0</td>\n",
              "      <td>8</td>\n",
              "      <td>1</td>\n",
              "    </tr>\n",
              "  </tbody>\n",
              "</table>\n",
              "</div>"
            ],
            "text/plain": [
              "   age anamia  creatinine_phosphokinase diabetes  ...  sex smoking  time  DEATH_EVENT\n",
              "1   75      0                       582        0  ...    1       0     4            1\n",
              "2   55      0                      7861        0  ...    1       0     6            1\n",
              "3   65      0                       146        0  ...    1       1     7            1\n",
              "4   50      1                       111        0  ...    1       0     7            1\n",
              "5   65      1                       160        1  ...    0       0     8            1\n",
              "\n",
              "[5 rows x 13 columns]"
            ]
          },
          "metadata": {
            "tags": []
          },
          "execution_count": 14
        }
      ]
    },
    {
      "cell_type": "markdown",
      "metadata": {
        "id": "8Bhr8_rjGVbO"
      },
      "source": [
        "데이터 분리하기"
      ]
    },
    {
      "cell_type": "code",
      "metadata": {
        "id": "KRJf43NxGXM_"
      },
      "source": [
        "# X(시험지), y(정답지) 분리하기\n",
        "X = df.iloc[:,:-1]\n",
        "y = df['DEATH_EVENT']"
      ],
      "execution_count": 15,
      "outputs": []
    },
    {
      "cell_type": "code",
      "metadata": {
        "id": "N-HRTirBEmBb"
      },
      "source": [
        "# 원-핫 인코딩 처리\n",
        "# 컬럼 -> 원-핫 인코딩 처리\n",
        "temp = pd.get_dummies(X[categorical_var], drop_first=True)"
      ],
      "execution_count": 16,
      "outputs": []
    },
    {
      "cell_type": "code",
      "metadata": {
        "id": "Q0qG5oxCGSeC"
      },
      "source": [
        "# 기존 데이터랑 합치기\n",
        "X_modified = pd.concat([X,temp], axis=1)"
      ],
      "execution_count": 17,
      "outputs": []
    },
    {
      "cell_type": "code",
      "metadata": {
        "id": "MdE8gaBaGact"
      },
      "source": [
        "# 기존 컬럼 삭제\n",
        "X_modified.drop(categorical_var, axis=1, inplace=True)"
      ],
      "execution_count": 18,
      "outputs": []
    },
    {
      "cell_type": "code",
      "metadata": {
        "colab": {
          "base_uri": "https://localhost:8080/",
          "height": 215
        },
        "id": "T-wKcQehGcUx",
        "outputId": "fe19416b-39b6-44cc-9432-f8c8c957d32d"
      },
      "source": [
        "X_modified.head()"
      ],
      "execution_count": 19,
      "outputs": [
        {
          "output_type": "execute_result",
          "data": {
            "text/html": [
              "<div>\n",
              "<style scoped>\n",
              "    .dataframe tbody tr th:only-of-type {\n",
              "        vertical-align: middle;\n",
              "    }\n",
              "\n",
              "    .dataframe tbody tr th {\n",
              "        vertical-align: top;\n",
              "    }\n",
              "\n",
              "    .dataframe thead th {\n",
              "        text-align: right;\n",
              "    }\n",
              "</style>\n",
              "<table border=\"1\" class=\"dataframe\">\n",
              "  <thead>\n",
              "    <tr style=\"text-align: right;\">\n",
              "      <th></th>\n",
              "      <th>age</th>\n",
              "      <th>creatinine_phosphokinase</th>\n",
              "      <th>ejection_fraction</th>\n",
              "      <th>platelets</th>\n",
              "      <th>serum_creatinine</th>\n",
              "      <th>serum_sodium</th>\n",
              "      <th>time</th>\n",
              "      <th>anamia_1</th>\n",
              "      <th>diabetes_1</th>\n",
              "      <th>high_blood_pressure_1</th>\n",
              "      <th>sex_1</th>\n",
              "      <th>smoking_1</th>\n",
              "    </tr>\n",
              "  </thead>\n",
              "  <tbody>\n",
              "    <tr>\n",
              "      <th>1</th>\n",
              "      <td>75</td>\n",
              "      <td>582</td>\n",
              "      <td>20</td>\n",
              "      <td>265000.00</td>\n",
              "      <td>1.9</td>\n",
              "      <td>130</td>\n",
              "      <td>4</td>\n",
              "      <td>0</td>\n",
              "      <td>0</td>\n",
              "      <td>1</td>\n",
              "      <td>1</td>\n",
              "      <td>0</td>\n",
              "    </tr>\n",
              "    <tr>\n",
              "      <th>2</th>\n",
              "      <td>55</td>\n",
              "      <td>7861</td>\n",
              "      <td>38</td>\n",
              "      <td>263358.03</td>\n",
              "      <td>1.1</td>\n",
              "      <td>136</td>\n",
              "      <td>6</td>\n",
              "      <td>0</td>\n",
              "      <td>0</td>\n",
              "      <td>0</td>\n",
              "      <td>1</td>\n",
              "      <td>0</td>\n",
              "    </tr>\n",
              "    <tr>\n",
              "      <th>3</th>\n",
              "      <td>65</td>\n",
              "      <td>146</td>\n",
              "      <td>20</td>\n",
              "      <td>162000.00</td>\n",
              "      <td>1.3</td>\n",
              "      <td>129</td>\n",
              "      <td>7</td>\n",
              "      <td>0</td>\n",
              "      <td>0</td>\n",
              "      <td>0</td>\n",
              "      <td>1</td>\n",
              "      <td>1</td>\n",
              "    </tr>\n",
              "    <tr>\n",
              "      <th>4</th>\n",
              "      <td>50</td>\n",
              "      <td>111</td>\n",
              "      <td>20</td>\n",
              "      <td>210000.00</td>\n",
              "      <td>1.9</td>\n",
              "      <td>137</td>\n",
              "      <td>7</td>\n",
              "      <td>1</td>\n",
              "      <td>0</td>\n",
              "      <td>0</td>\n",
              "      <td>1</td>\n",
              "      <td>0</td>\n",
              "    </tr>\n",
              "    <tr>\n",
              "      <th>5</th>\n",
              "      <td>65</td>\n",
              "      <td>160</td>\n",
              "      <td>20</td>\n",
              "      <td>327000.00</td>\n",
              "      <td>2.7</td>\n",
              "      <td>116</td>\n",
              "      <td>8</td>\n",
              "      <td>1</td>\n",
              "      <td>1</td>\n",
              "      <td>0</td>\n",
              "      <td>0</td>\n",
              "      <td>0</td>\n",
              "    </tr>\n",
              "  </tbody>\n",
              "</table>\n",
              "</div>"
            ],
            "text/plain": [
              "   age  creatinine_phosphokinase  ...  sex_1  smoking_1\n",
              "1   75                       582  ...      1          0\n",
              "2   55                      7861  ...      1          0\n",
              "3   65                       146  ...      1          1\n",
              "4   50                       111  ...      1          0\n",
              "5   65                       160  ...      0          0\n",
              "\n",
              "[5 rows x 12 columns]"
            ]
          },
          "metadata": {
            "tags": []
          },
          "execution_count": 19
        }
      ]
    },
    {
      "cell_type": "markdown",
      "metadata": {
        "id": "1Knu5AjWGfJo"
      },
      "source": [
        "훈련용, 테스트 데이터 분리하기"
      ]
    },
    {
      "cell_type": "code",
      "metadata": {
        "id": "EMww1AZMGeMp"
      },
      "source": [
        "X_train, X_test, y_train, y_test = train_test_split(X_modified,y,\n",
        "                                                    train_size=0.7, # test_size\n",
        "                                                    random_state=7)"
      ],
      "execution_count": 20,
      "outputs": []
    },
    {
      "cell_type": "markdown",
      "metadata": {
        "id": "NYg8ds2FG0tj"
      },
      "source": [
        "RF 분류 모형 - sklearn 사용"
      ]
    },
    {
      "cell_type": "code",
      "metadata": {
        "id": "SBc6-Gamcmhn"
      },
      "source": [
        "# sklearn 라이브러리에서 RF 분류 모형 가져오기\n",
        "from sklearn.ensemble import RandomForestClassifier\n",
        "\n",
        "rf = RandomForestClassifier(n_estimators=100, random_state=7)"
      ],
      "execution_count": 21,
      "outputs": []
    },
    {
      "cell_type": "code",
      "metadata": {
        "id": "34CvJK1jcrwL",
        "colab": {
          "base_uri": "https://localhost:8080/"
        },
        "outputId": "14cbf01e-e140-4c10-ff16-ed58714d09b8"
      },
      "source": [
        "# 훈련 데이터를 사용하여 모형 학습\n",
        "rf.fit(X_train, y_train)"
      ],
      "execution_count": 22,
      "outputs": [
        {
          "output_type": "execute_result",
          "data": {
            "text/plain": [
              "RandomForestClassifier(bootstrap=True, ccp_alpha=0.0, class_weight=None,\n",
              "                       criterion='gini', max_depth=None, max_features='auto',\n",
              "                       max_leaf_nodes=None, max_samples=None,\n",
              "                       min_impurity_decrease=0.0, min_impurity_split=None,\n",
              "                       min_samples_leaf=1, min_samples_split=2,\n",
              "                       min_weight_fraction_leaf=0.0, n_estimators=100,\n",
              "                       n_jobs=None, oob_score=False, random_state=7, verbose=0,\n",
              "                       warm_start=False)"
            ]
          },
          "metadata": {
            "tags": []
          },
          "execution_count": 22
        }
      ]
    },
    {
      "cell_type": "markdown",
      "metadata": {
        "id": "Lv6I6eNPG6LF"
      },
      "source": [
        "모델 성능 평가"
      ]
    },
    {
      "cell_type": "code",
      "metadata": {
        "colab": {
          "base_uri": "https://localhost:8080/"
        },
        "id": "l368KtGzc6sZ",
        "outputId": "74c38abc-abff-4dd5-fdbe-b7d51015aa05"
      },
      "source": [
        "# RF 모델 성능 평가\n",
        "from sklearn import metrics\n",
        "\n",
        "print('테스트 세트 정확도: {:.2f}%'.format(rf.score(X_test, y_test)*100))"
      ],
      "execution_count": 24,
      "outputs": [
        {
          "output_type": "stream",
          "text": [
            "테스트 세트 정확도: 91.11%\n"
          ],
          "name": "stdout"
        }
      ]
    },
    {
      "cell_type": "code",
      "metadata": {
        "id": "cSdH5cpSlGtg"
      },
      "source": [
        ""
      ],
      "execution_count": null,
      "outputs": []
    }
  ]
}
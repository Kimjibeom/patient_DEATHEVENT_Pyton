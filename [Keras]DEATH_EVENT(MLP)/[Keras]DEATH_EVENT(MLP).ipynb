{
  "nbformat": 4,
  "nbformat_minor": 0,
  "metadata": {
    "colab": {
      "name": "[Keras]DEATH_EVENT(MLP).ipynb",
      "provenance": []
    },
    "kernelspec": {
      "name": "python3",
      "display_name": "Python 3"
    },
    "language_info": {
      "name": "python"
    }
  },
  "cells": [
    {
      "cell_type": "markdown",
      "metadata": {
        "id": "BMEtld2B_qzE"
      },
      "source": [
        "# 문제 정의\n",
        "\n",
        "제공 받은 Dataset은 age, anaemia, high blood pressure, diabetes 등의 병원데이터라고 추측되는 데이터이고 DEATH_EVENT는 해당 환자의 사후관리 기간 중 사망한 경우를 나타냅니다."
      ]
    },
    {
      "cell_type": "markdown",
      "metadata": {
        "id": "T-MVgsJS_uyg"
      },
      "source": [
        "데이터 준비하기"
      ]
    },
    {
      "cell_type": "code",
      "metadata": {
        "id": "JsdH3ixV6eDM"
      },
      "source": [
        "import numpy as np\n",
        "import tensorflow as tf\n",
        "from keras.models import Sequential\n",
        "from keras.layers import Dense\n",
        "\n",
        "np.set_printoptions(suppress=True)\n",
        "# 랜덤 시드 고정시키기\n",
        "np.random.seed(5)"
      ],
      "execution_count": 1,
      "outputs": []
    },
    {
      "cell_type": "markdown",
      "metadata": {
        "id": "REemsjYdADLu"
      },
      "source": [
        "데이터 준비하기"
      ]
    },
    {
      "cell_type": "code",
      "metadata": {
        "id": "xZGnj8-l5msM",
        "colab": {
          "base_uri": "https://localhost:8080/"
        },
        "outputId": "62db5cbe-69d0-4e45-edd8-27c8e2c54e5c"
      },
      "source": [
        "dataset = np.loadtxt('dataset.csv', delimiter=',',skiprows=1)\n",
        "dataset"
      ],
      "execution_count": 2,
      "outputs": [
        {
          "output_type": "execute_result",
          "data": {
            "text/plain": [
              "array([[  75.,  582.,   20., ...,  130.,    4.,    1.],\n",
              "       [  55., 7861.,   38., ...,  136.,    6.,    1.],\n",
              "       [  65.,  146.,   20., ...,  129.,    7.,    1.],\n",
              "       ...,\n",
              "       [  45., 2060.,   60., ...,  138.,  278.,    0.],\n",
              "       [  45., 2413.,   38., ...,  140.,  280.,    0.],\n",
              "       [  50.,  196.,   45., ...,  136.,  285.,    0.]])"
            ]
          },
          "metadata": {
            "tags": []
          },
          "execution_count": 2
        }
      ]
    },
    {
      "cell_type": "code",
      "metadata": {
        "id": "5KPqpHz5vgal",
        "colab": {
          "base_uri": "https://localhost:8080/"
        },
        "outputId": "fa155587-353a-427d-b2fb-1f2924d681d7"
      },
      "source": [
        "# 학습 데이터 210개 가져오기\n",
        "X_train = dataset[:210,0:7]\n",
        "y_train = dataset[:210, 7]\n",
        "\n",
        "# 테스트 데이터 89개 가져오기\n",
        "X_test = dataset[210:, 0:7]\n",
        "y_test = dataset[210:, 7]\n",
        "\n",
        "print(X_train.shape, X_test.shape)"
      ],
      "execution_count": 3,
      "outputs": [
        {
          "output_type": "stream",
          "text": [
            "(210, 7) (89, 7)\n"
          ],
          "name": "stdout"
        }
      ]
    },
    {
      "cell_type": "markdown",
      "metadata": {
        "id": "Km1IIEo-w2fJ"
      },
      "source": [
        "모델 구성하기"
      ]
    },
    {
      "cell_type": "code",
      "metadata": {
        "id": "5Mi-ZTlJvtoy"
      },
      "source": [
        "model = Sequential()\n",
        "model.add(Dense(32, input_dim=7, activation='relu'))\n",
        "model.add(Dense(16, activation='relu'))\n",
        "model.add(Dense(4, activation='relu'))\n",
        "model.add(Dense(1, activation = 'sigmoid'))"
      ],
      "execution_count": 4,
      "outputs": []
    },
    {
      "cell_type": "code",
      "metadata": {
        "colab": {
          "base_uri": "https://localhost:8080/"
        },
        "id": "TpXXeib0I345",
        "outputId": "ab94f4bc-82eb-41b1-afbb-27337a6e65ef"
      },
      "source": [
        "model.summary()"
      ],
      "execution_count": 5,
      "outputs": [
        {
          "output_type": "stream",
          "text": [
            "Model: \"sequential\"\n",
            "_________________________________________________________________\n",
            "Layer (type)                 Output Shape              Param #   \n",
            "=================================================================\n",
            "dense (Dense)                (None, 32)                256       \n",
            "_________________________________________________________________\n",
            "dense_1 (Dense)              (None, 16)                528       \n",
            "_________________________________________________________________\n",
            "dense_2 (Dense)              (None, 4)                 68        \n",
            "_________________________________________________________________\n",
            "dense_3 (Dense)              (None, 1)                 5         \n",
            "=================================================================\n",
            "Total params: 857\n",
            "Trainable params: 857\n",
            "Non-trainable params: 0\n",
            "_________________________________________________________________\n"
          ],
          "name": "stdout"
        }
      ]
    },
    {
      "cell_type": "code",
      "metadata": {
        "id": "v_u_ohmjw72Y"
      },
      "source": [
        "model.compile(loss='binary_crossentropy', \n",
        "              optimizer='adam',\n",
        "              metrics=['accuracy'])"
      ],
      "execution_count": 6,
      "outputs": []
    },
    {
      "cell_type": "code",
      "metadata": {
        "id": "vK01p-Wrw9xJ",
        "colab": {
          "base_uri": "https://localhost:8080/"
        },
        "outputId": "815a1d24-b211-4738-a219-cd91d5bdf076"
      },
      "source": [
        "history = model.fit(X_train, y_train,\n",
        "                    epochs=100,\n",
        "                    batch_size=32)"
      ],
      "execution_count": 7,
      "outputs": [
        {
          "output_type": "stream",
          "text": [
            "Epoch 1/100\n",
            "7/7 [==============================] - 14s 3ms/step - loss: 1242.5540 - accuracy: 0.6008\n",
            "Epoch 2/100\n",
            "7/7 [==============================] - 0s 3ms/step - loss: 438.0339 - accuracy: 0.5996\n",
            "Epoch 3/100\n",
            "7/7 [==============================] - 0s 3ms/step - loss: 138.3605 - accuracy: 0.4427\n",
            "Epoch 4/100\n",
            "7/7 [==============================] - 0s 3ms/step - loss: 105.5974 - accuracy: 0.4740\n",
            "Epoch 5/100\n",
            "7/7 [==============================] - 0s 3ms/step - loss: 134.2760 - accuracy: 0.5761\n",
            "Epoch 6/100\n",
            "7/7 [==============================] - 0s 3ms/step - loss: 31.0250 - accuracy: 0.4481\n",
            "Epoch 7/100\n",
            "7/7 [==============================] - 0s 3ms/step - loss: 23.1296 - accuracy: 0.5866\n",
            "Epoch 8/100\n",
            "7/7 [==============================] - 0s 3ms/step - loss: 15.7830 - accuracy: 0.5684\n",
            "Epoch 9/100\n",
            "7/7 [==============================] - 0s 3ms/step - loss: 25.1702 - accuracy: 0.4816\n",
            "Epoch 10/100\n",
            "7/7 [==============================] - 0s 2ms/step - loss: 34.0376 - accuracy: 0.4729\n",
            "Epoch 11/100\n",
            "7/7 [==============================] - 0s 2ms/step - loss: 21.9410 - accuracy: 0.5873\n",
            "Epoch 12/100\n",
            "7/7 [==============================] - 0s 3ms/step - loss: 6.7992 - accuracy: 0.5351\n",
            "Epoch 13/100\n",
            "7/7 [==============================] - 0s 3ms/step - loss: 8.1053 - accuracy: 0.5590\n",
            "Epoch 14/100\n",
            "7/7 [==============================] - 0s 3ms/step - loss: 8.2459 - accuracy: 0.4915\n",
            "Epoch 15/100\n",
            "7/7 [==============================] - 0s 3ms/step - loss: 16.8082 - accuracy: 0.4827\n",
            "Epoch 16/100\n",
            "7/7 [==============================] - 0s 2ms/step - loss: 18.7072 - accuracy: 0.4209\n",
            "Epoch 17/100\n",
            "7/7 [==============================] - 0s 3ms/step - loss: 18.6370 - accuracy: 0.4521\n",
            "Epoch 18/100\n",
            "7/7 [==============================] - 0s 2ms/step - loss: 24.9637 - accuracy: 0.5527\n",
            "Epoch 19/100\n",
            "7/7 [==============================] - 0s 2ms/step - loss: 11.3388 - accuracy: 0.5764\n",
            "Epoch 20/100\n",
            "7/7 [==============================] - 0s 3ms/step - loss: 20.3876 - accuracy: 0.4652\n",
            "Epoch 21/100\n",
            "7/7 [==============================] - 0s 4ms/step - loss: 15.7093 - accuracy: 0.4700\n",
            "Epoch 22/100\n",
            "7/7 [==============================] - 0s 4ms/step - loss: 9.6001 - accuracy: 0.4959\n",
            "Epoch 23/100\n",
            "7/7 [==============================] - 0s 3ms/step - loss: 4.0133 - accuracy: 0.5707\n",
            "Epoch 24/100\n",
            "7/7 [==============================] - 0s 4ms/step - loss: 14.1217 - accuracy: 0.4220\n",
            "Epoch 25/100\n",
            "7/7 [==============================] - 0s 3ms/step - loss: 11.6413 - accuracy: 0.4810\n",
            "Epoch 26/100\n",
            "7/7 [==============================] - 0s 3ms/step - loss: 10.6334 - accuracy: 0.4674\n",
            "Epoch 27/100\n",
            "7/7 [==============================] - 0s 2ms/step - loss: 9.2764 - accuracy: 0.4704\n",
            "Epoch 28/100\n",
            "7/7 [==============================] - 0s 3ms/step - loss: 2.7408 - accuracy: 0.5619\n",
            "Epoch 29/100\n",
            "7/7 [==============================] - 0s 2ms/step - loss: 7.3047 - accuracy: 0.5312\n",
            "Epoch 30/100\n",
            "7/7 [==============================] - 0s 3ms/step - loss: 7.3227 - accuracy: 0.4200\n",
            "Epoch 31/100\n",
            "7/7 [==============================] - 0s 2ms/step - loss: 14.5654 - accuracy: 0.4999\n",
            "Epoch 32/100\n",
            "7/7 [==============================] - 0s 2ms/step - loss: 29.6510 - accuracy: 0.4297\n",
            "Epoch 33/100\n",
            "7/7 [==============================] - 0s 2ms/step - loss: 9.4503 - accuracy: 0.5693\n",
            "Epoch 34/100\n",
            "7/7 [==============================] - 0s 4ms/step - loss: 6.6612 - accuracy: 0.5605\n",
            "Epoch 35/100\n",
            "7/7 [==============================] - 0s 2ms/step - loss: 9.8707 - accuracy: 0.4571\n",
            "Epoch 36/100\n",
            "7/7 [==============================] - 0s 2ms/step - loss: 3.2981 - accuracy: 0.5353\n",
            "Epoch 37/100\n",
            "7/7 [==============================] - 0s 2ms/step - loss: 5.1279 - accuracy: 0.5561\n",
            "Epoch 38/100\n",
            "7/7 [==============================] - 0s 3ms/step - loss: 12.8641 - accuracy: 0.4663\n",
            "Epoch 39/100\n",
            "7/7 [==============================] - 0s 2ms/step - loss: 4.7862 - accuracy: 0.6055\n",
            "Epoch 40/100\n",
            "7/7 [==============================] - 0s 2ms/step - loss: 2.1210 - accuracy: 0.5693\n",
            "Epoch 41/100\n",
            "7/7 [==============================] - 0s 2ms/step - loss: 3.2060 - accuracy: 0.5151\n",
            "Epoch 42/100\n",
            "7/7 [==============================] - 0s 2ms/step - loss: 4.9162 - accuracy: 0.5641\n",
            "Epoch 43/100\n",
            "7/7 [==============================] - 0s 2ms/step - loss: 6.2378 - accuracy: 0.6022\n",
            "Epoch 44/100\n",
            "7/7 [==============================] - 0s 2ms/step - loss: 3.4716 - accuracy: 0.5827\n",
            "Epoch 45/100\n",
            "7/7 [==============================] - 0s 2ms/step - loss: 7.6995 - accuracy: 0.5363\n",
            "Epoch 46/100\n",
            "7/7 [==============================] - 0s 2ms/step - loss: 10.0447 - accuracy: 0.5195\n",
            "Epoch 47/100\n",
            "7/7 [==============================] - 0s 2ms/step - loss: 5.0552 - accuracy: 0.5625\n",
            "Epoch 48/100\n",
            "7/7 [==============================] - 0s 3ms/step - loss: 6.0491 - accuracy: 0.5612\n",
            "Epoch 49/100\n",
            "7/7 [==============================] - 0s 2ms/step - loss: 6.9254 - accuracy: 0.4706\n",
            "Epoch 50/100\n",
            "7/7 [==============================] - 0s 2ms/step - loss: 10.3475 - accuracy: 0.5540\n",
            "Epoch 51/100\n",
            "7/7 [==============================] - 0s 2ms/step - loss: 3.2025 - accuracy: 0.5179\n",
            "Epoch 52/100\n",
            "7/7 [==============================] - 0s 2ms/step - loss: 4.2138 - accuracy: 0.5096\n",
            "Epoch 53/100\n",
            "7/7 [==============================] - 0s 2ms/step - loss: 9.9297 - accuracy: 0.4851\n",
            "Epoch 54/100\n",
            "7/7 [==============================] - 0s 2ms/step - loss: 7.1536 - accuracy: 0.5381\n",
            "Epoch 55/100\n",
            "7/7 [==============================] - 0s 2ms/step - loss: 7.6126 - accuracy: 0.4758\n",
            "Epoch 56/100\n",
            "7/7 [==============================] - 0s 2ms/step - loss: 11.4544 - accuracy: 0.5846\n",
            "Epoch 57/100\n",
            "7/7 [==============================] - 0s 2ms/step - loss: 7.7647 - accuracy: 0.5923\n",
            "Epoch 58/100\n",
            "7/7 [==============================] - 0s 2ms/step - loss: 5.2645 - accuracy: 0.5446\n",
            "Epoch 59/100\n",
            "7/7 [==============================] - 0s 2ms/step - loss: 5.9170 - accuracy: 0.5369\n",
            "Epoch 60/100\n",
            "7/7 [==============================] - 0s 2ms/step - loss: 4.5239 - accuracy: 0.5518\n",
            "Epoch 61/100\n",
            "7/7 [==============================] - 0s 2ms/step - loss: 21.2186 - accuracy: 0.5610\n",
            "Epoch 62/100\n",
            "7/7 [==============================] - 0s 2ms/step - loss: 16.0425 - accuracy: 0.4969\n",
            "Epoch 63/100\n",
            "7/7 [==============================] - 0s 3ms/step - loss: 15.6997 - accuracy: 0.4607\n",
            "Epoch 64/100\n",
            "7/7 [==============================] - 0s 2ms/step - loss: 10.3143 - accuracy: 0.4943\n",
            "Epoch 65/100\n",
            "7/7 [==============================] - 0s 2ms/step - loss: 5.0745 - accuracy: 0.5040\n",
            "Epoch 66/100\n",
            "7/7 [==============================] - 0s 2ms/step - loss: 2.2982 - accuracy: 0.5952\n",
            "Epoch 67/100\n",
            "7/7 [==============================] - 0s 2ms/step - loss: 6.6462 - accuracy: 0.5337\n",
            "Epoch 68/100\n",
            "7/7 [==============================] - 0s 3ms/step - loss: 15.8581 - accuracy: 0.5519\n",
            "Epoch 69/100\n",
            "7/7 [==============================] - 0s 2ms/step - loss: 12.1508 - accuracy: 0.5015\n",
            "Epoch 70/100\n",
            "7/7 [==============================] - 0s 2ms/step - loss: 7.6765 - accuracy: 0.4712\n",
            "Epoch 71/100\n",
            "7/7 [==============================] - 0s 2ms/step - loss: 3.1654 - accuracy: 0.5205\n",
            "Epoch 72/100\n",
            "7/7 [==============================] - 0s 3ms/step - loss: 8.9148 - accuracy: 0.4664\n",
            "Epoch 73/100\n",
            "7/7 [==============================] - 0s 2ms/step - loss: 10.0333 - accuracy: 0.5664\n",
            "Epoch 74/100\n",
            "7/7 [==============================] - 0s 2ms/step - loss: 7.3501 - accuracy: 0.5262\n",
            "Epoch 75/100\n",
            "7/7 [==============================] - 0s 2ms/step - loss: 7.3884 - accuracy: 0.4660\n",
            "Epoch 76/100\n",
            "7/7 [==============================] - 0s 2ms/step - loss: 4.8716 - accuracy: 0.6526\n",
            "Epoch 77/100\n",
            "7/7 [==============================] - 0s 3ms/step - loss: 3.4604 - accuracy: 0.4519\n",
            "Epoch 78/100\n",
            "7/7 [==============================] - 0s 2ms/step - loss: 2.5832 - accuracy: 0.5519\n",
            "Epoch 79/100\n",
            "7/7 [==============================] - 0s 2ms/step - loss: 1.9768 - accuracy: 0.6068\n",
            "Epoch 80/100\n",
            "7/7 [==============================] - 0s 4ms/step - loss: 3.3692 - accuracy: 0.5313\n",
            "Epoch 81/100\n",
            "7/7 [==============================] - 0s 3ms/step - loss: 4.3809 - accuracy: 0.5324\n",
            "Epoch 82/100\n",
            "7/7 [==============================] - 0s 3ms/step - loss: 2.6202 - accuracy: 0.5688\n",
            "Epoch 83/100\n",
            "7/7 [==============================] - 0s 3ms/step - loss: 1.8736 - accuracy: 0.6405\n",
            "Epoch 84/100\n",
            "7/7 [==============================] - 0s 3ms/step - loss: 1.3182 - accuracy: 0.6308\n",
            "Epoch 85/100\n",
            "7/7 [==============================] - 0s 3ms/step - loss: 1.3573 - accuracy: 0.6546\n",
            "Epoch 86/100\n",
            "7/7 [==============================] - 0s 3ms/step - loss: 5.4054 - accuracy: 0.5380\n",
            "Epoch 87/100\n",
            "7/7 [==============================] - 0s 3ms/step - loss: 1.4186 - accuracy: 0.6724\n",
            "Epoch 88/100\n",
            "7/7 [==============================] - 0s 3ms/step - loss: 1.1800 - accuracy: 0.6315\n",
            "Epoch 89/100\n",
            "7/7 [==============================] - 0s 3ms/step - loss: 2.0790 - accuracy: 0.6247\n",
            "Epoch 90/100\n",
            "7/7 [==============================] - 0s 2ms/step - loss: 2.9761 - accuracy: 0.5865\n",
            "Epoch 91/100\n",
            "7/7 [==============================] - 0s 3ms/step - loss: 10.5474 - accuracy: 0.5219\n",
            "Epoch 92/100\n",
            "7/7 [==============================] - 0s 3ms/step - loss: 14.2950 - accuracy: 0.4517\n",
            "Epoch 93/100\n",
            "7/7 [==============================] - 0s 3ms/step - loss: 18.3621 - accuracy: 0.5266\n",
            "Epoch 94/100\n",
            "7/7 [==============================] - 0s 3ms/step - loss: 14.4953 - accuracy: 0.5380\n",
            "Epoch 95/100\n",
            "7/7 [==============================] - 0s 3ms/step - loss: 17.1394 - accuracy: 0.5403\n",
            "Epoch 96/100\n",
            "7/7 [==============================] - 0s 3ms/step - loss: 9.6967 - accuracy: 0.4807\n",
            "Epoch 97/100\n",
            "7/7 [==============================] - 0s 2ms/step - loss: 10.8457 - accuracy: 0.4993\n",
            "Epoch 98/100\n",
            "7/7 [==============================] - 0s 2ms/step - loss: 11.4822 - accuracy: 0.4846\n",
            "Epoch 99/100\n",
            "7/7 [==============================] - 0s 3ms/step - loss: 4.0256 - accuracy: 0.4464\n",
            "Epoch 100/100\n",
            "7/7 [==============================] - 0s 2ms/step - loss: 8.4875 - accuracy: 0.6208\n"
          ],
          "name": "stdout"
        }
      ]
    },
    {
      "cell_type": "markdown",
      "metadata": {
        "id": "KtEnAjlAyFoh"
      },
      "source": [
        "학습 결과 그려보기"
      ]
    },
    {
      "cell_type": "code",
      "metadata": {
        "id": "0HAqQY6Hw_O9",
        "colab": {
          "base_uri": "https://localhost:8080/",
          "height": 350
        },
        "outputId": "146efb17-d3df-4ac2-b862-b4588a135d53"
      },
      "source": [
        "import matplotlib.pyplot as plt\n",
        "\n",
        "his_dict = history.history\n",
        "loss = his_dict['loss']\n",
        "\n",
        "epochs = range(1, len(loss) + 1)\n",
        "fig = plt.figure(figsize = (10, 5))\n",
        "\n",
        "# 훈련 및 검증 손실 그리기\n",
        "ax1 = fig.add_subplot(1, 2, 1)\n",
        "ax1.plot(epochs, loss, color = 'orange', label = 'train_loss')\n",
        "ax1.set_title('train loss')\n",
        "ax1.set_xlabel('epochs')\n",
        "ax1.set_ylabel('loss')\n",
        "ax1.legend()\n",
        "\n",
        "acc = his_dict['accuracy']\n",
        "\n",
        "# 훈련 및 검증 정확도 그리기\n",
        "ax2 = fig.add_subplot(1, 2, 2)\n",
        "ax2.plot(epochs, acc, color = 'blue', label = 'train_accuracy')\n",
        "ax2.set_title('train accuracy')\n",
        "ax2.set_xlabel('epochs')\n",
        "ax2.set_ylabel('accuracy')\n",
        "ax2.legend()\n",
        "\n",
        "plt.show()"
      ],
      "execution_count": 15,
      "outputs": [
        {
          "output_type": "display_data",
          "data": {
            "image/png": "[encoded data removed]",
            "text/plain": [
              "<Figure size 720x360 with 2 Axes>"
            ]
          },
          "metadata": {
            "tags": [],
            "needs_background": "light"
          }
        }
      ]
    },
    {
      "cell_type": "markdown",
      "metadata": {
        "id": "4LIvaNs1JdyB"
      },
      "source": [
        "모델 평가하기"
      ]
    },
    {
      "cell_type": "code",
      "metadata": {
        "id": "CzqsLtdgySLp",
        "colab": {
          "base_uri": "https://localhost:8080/"
        },
        "outputId": "d9ccc61e-0233-44a5-a29a-0c52b3a63ad9"
      },
      "source": [
        "scores = model.evaluate(X_test, y_test)\n",
        "print(\"%s: %.2f%%\" %(model.metrics_names[1], scores[1]*100))"
      ],
      "execution_count": 9,
      "outputs": [
        {
          "output_type": "stream",
          "text": [
            "3/3 [==============================] - 1s 4ms/step - loss: 2.9080 - accuracy: 0.9213\n",
            "accuracy: 92.13%\n"
          ],
          "name": "stdout"
        }
      ]
    },
    {
      "cell_type": "code",
      "metadata": {
        "id": "XmXuSk0OJhOn"
      },
      "source": [
        "def plot_auc_roc(model):\n",
        "    probs = model.predict_classes(X_test)\n",
        "    fpr, tpr, threshold = metrics.roc_curve(y_test, probs)\n",
        "    roc_auc = metrics.auc(fpr, tpr)\n",
        "\n",
        "    # method I: plt\n",
        "    import matplotlib.pyplot as plt\n",
        "    plt.title('Receiver Operating Characteristic')\n",
        "    plt.plot(fpr, tpr, 'b', label = 'AUC = %0.2f' % roc_auc)\n",
        "    plt.legend(loc = 'lower right')\n",
        "    plt.plot([0, 1], [0, 1],'r--')\n",
        "    plt.xlim([0, 1])\n",
        "    plt.ylim([0, 1])\n",
        "    plt.ylabel('True Positive Rate')\n",
        "    plt.xlabel('False Positive Rate')\n",
        "    plt.show()"
      ],
      "execution_count": 10,
      "outputs": []
    },
    {
      "cell_type": "code",
      "metadata": {
        "id": "Z0ALE-LzJlAb",
        "colab": {
          "base_uri": "https://localhost:8080/"
        },
        "outputId": "9d6966a7-6714-4a5c-e1e0-24ab606ddcab"
      },
      "source": [
        "# 모델 예측하기\n",
        "result = model.predict_classes(X_test)"
      ],
      "execution_count": 11,
      "outputs": [
        {
          "output_type": "stream",
          "text": [
            "/usr/local/lib/python3.7/dist-packages/keras/engine/sequential.py:450: UserWarning: `model.predict_classes()` is deprecated and will be removed after 2021-01-01. Please use instead:* `np.argmax(model.predict(x), axis=-1)`,   if your model does multi-class classification   (e.g. if it uses a `softmax` last-layer activation).* `(model.predict(x) > 0.5).astype(\"int32\")`,   if your model does binary classification   (e.g. if it uses a `sigmoid` last-layer activation).\n",
            "  warnings.warn('`model.predict_classes()` is deprecated and '\n"
          ],
          "name": "stderr"
        }
      ]
    },
    {
      "cell_type": "code",
      "metadata": {
        "id": "kbzCJV9xJmJe",
        "colab": {
          "base_uri": "https://localhost:8080/"
        },
        "outputId": "23b98992-89b9-43fa-eb12-136aef4d60c8"
      },
      "source": [
        "from sklearn import metrics\n",
        "report = metrics.classification_report(y_test, result)\n",
        "print(report)"
      ],
      "execution_count": 12,
      "outputs": [
        {
          "output_type": "stream",
          "text": [
            "              precision    recall  f1-score   support\n",
            "\n",
            "         0.0       0.92      1.00      0.96        82\n",
            "         1.0       0.00      0.00      0.00         7\n",
            "\n",
            "    accuracy                           0.92        89\n",
            "   macro avg       0.46      0.50      0.48        89\n",
            "weighted avg       0.85      0.92      0.88        89\n",
            "\n"
          ],
          "name": "stdout"
        },
        {
          "output_type": "stream",
          "text": [
            "/usr/local/lib/python3.7/dist-packages/sklearn/metrics/_classification.py:1272: UndefinedMetricWarning: Precision and F-score are ill-defined and being set to 0.0 in labels with no predicted samples. Use `zero_division` parameter to control this behavior.\n",
            "  _warn_prf(average, modifier, msg_start, len(result))\n"
          ],
          "name": "stderr"
        }
      ]
    },
    {
      "cell_type": "code",
      "metadata": {
        "id": "H1yrChhWJnqm",
        "colab": {
          "base_uri": "https://localhost:8080/"
        },
        "outputId": "e493718d-fb1e-47bf-8dbf-c3b23f1a079c"
      },
      "source": [
        "print(metrics.precision_score(y_test,result))\n",
        "print(metrics.recall_score(y_test,result))"
      ],
      "execution_count": 13,
      "outputs": [
        {
          "output_type": "stream",
          "text": [
            "0.0\n",
            "0.0\n"
          ],
          "name": "stdout"
        },
        {
          "output_type": "stream",
          "text": [
            "/usr/local/lib/python3.7/dist-packages/sklearn/metrics/_classification.py:1272: UndefinedMetricWarning: Precision is ill-defined and being set to 0.0 due to no predicted samples. Use `zero_division` parameter to control this behavior.\n",
            "  _warn_prf(average, modifier, msg_start, len(result))\n"
          ],
          "name": "stderr"
        }
      ]
    },
    {
      "cell_type": "code",
      "metadata": {
        "id": "UN_k-4vqJpQy",
        "colab": {
          "base_uri": "https://localhost:8080/",
          "height": 349
        },
        "outputId": "c1bbba22-f108-489e-ce8a-9f8ca3ee9ff7"
      },
      "source": [
        "plot_auc_roc(model)"
      ],
      "execution_count": 14,
      "outputs": [
        {
          "output_type": "stream",
          "text": [
            "/usr/local/lib/python3.7/dist-packages/keras/engine/sequential.py:450: UserWarning: `model.predict_classes()` is deprecated and will be removed after 2021-01-01. Please use instead:* `np.argmax(model.predict(x), axis=-1)`,   if your model does multi-class classification   (e.g. if it uses a `softmax` last-layer activation).* `(model.predict(x) > 0.5).astype(\"int32\")`,   if your model does binary classification   (e.g. if it uses a `sigmoid` last-layer activation).\n",
            "  warnings.warn('`model.predict_classes()` is deprecated and '\n"
          ],
          "name": "stderr"
        },
        {
          "output_type": "display_data",
          "data": {
            "image/png": "[encoded data removed]",
            "text/plain": [
              "<Figure size 432x288 with 1 Axes>"
            ]
          },
          "metadata": {
            "tags": [],
            "needs_background": "light"
          }
        }
      ]
    },
    {
      "cell_type": "code",
      "metadata": {
        "id": "zly0bcIJJqqA"
      },
      "source": [
        ""
      ],
      "execution_count": 14,
      "outputs": []
    }
  ]
}